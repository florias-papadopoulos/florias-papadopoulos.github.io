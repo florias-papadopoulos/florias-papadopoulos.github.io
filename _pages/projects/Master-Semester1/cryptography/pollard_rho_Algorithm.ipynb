{
 "cells": [
  {
   "cell_type": "markdown",
   "metadata": {},
   "source": [
    "# Pollard's ρ algorithm for factoring\n",
    "\n",
    "\n",
    "This program was made for an assignment of the class ”Cryptography” of my master’s program:  \n",
    "\"Use Pollard's ρ algorithm to factorize the number $n= 902831$.\"\n",
    "\n",
    "<u>**Pollard's ρ algorithm**</u>  \n",
    "$\\cdot$ Input: Odd composite integer $n>3$  \n",
    "$\\cdot$ Output: A non-trivial factor of $n$  \n",
    "1. We choose a $x_0 \\in \\{0,1,\\dots,n-1\\}$ and a function $f(x) \\in \\mathbb{Z}[x]$ and define the sequence: $x_i = f(x_{i-1}) \\, mod \\, n \\; (i=1, \\dots, n)$\n",
    "2. We compute $gcd(x_i,x_{2i},n)$ $(i=1,\\dots,n)$ until we find an index $k$ such that $1<gcd(x_k-x_{2k},n)<n$.\n",
    "3. We extract $gcd(x_k,x_{2k},n)$, which will be a non-trivial factor of $n$.  \n",
    "   If such an index $k$ cannot be found, then we repeat the process using another $x_0$ or $f(x)$.\n",
    "\n",
    "Author: Florias Papadopoulos"
   ]
  },
  {
   "cell_type": "markdown",
   "metadata": {
    "id": "PNZ6HpwtOdjK"
   },
   "source": [
    "## Importing modules\n",
    "\n",
    "We start by importing the modules that we will use"
   ]
  },
  {
   "cell_type": "code",
   "execution_count": 1,
   "metadata": {
    "executionInfo": {
     "elapsed": 297,
     "status": "ok",
     "timestamp": 1671741577941,
     "user": {
      "displayName": "Florias Papadopoulos",
      "userId": "02493792366473576187"
     },
     "user_tz": -120
    },
    "id": "MkaR6abAHcQe"
   },
   "outputs": [],
   "source": [
    "import numpy as np\n",
    "import random\n",
    "import math"
   ]
  },
  {
   "cell_type": "markdown",
   "metadata": {},
   "source": [
    "If one or more modules are missing you can just type the code below in order to install a pip package in the current Jupyter kernel. For example, if numpy is missing, then we can use"
   ]
  },
  {
   "cell_type": "code",
   "execution_count": 2,
   "metadata": {},
   "outputs": [
    {
     "name": "stdout",
     "output_type": "stream",
     "text": [
      "Requirement already satisfied: numpy in c:\\users\\hp\\appdata\\local\\programs\\python\\python311\\lib\\site-packages (1.24.1)\n"
     ]
    }
   ],
   "source": [
    "import sys\n",
    "!{sys.executable} -m pip install numpy"
   ]
  },
  {
   "cell_type": "markdown",
   "metadata": {
    "id": "PNZ6HpwtOdjK"
   },
   "source": [
    "## Defining the functions"
   ]
  },
  {
   "cell_type": "markdown",
   "metadata": {
    "id": "PNZ6HpwtOdjK"
   },
   "source": [
    "#### (a) xsqrdplusone\n",
    "\n",
    "We define our chosen function $x^2+1$.  \n",
    "(If the algorithm isn't fruitful after some tries, we can change it with another one.)"
   ]
  },
  {
   "cell_type": "code",
   "execution_count": 3,
   "metadata": {
    "executionInfo": {
     "elapsed": 297,
     "status": "ok",
     "timestamp": 1671741577941,
     "user": {
      "displayName": "Florias Papadopoulos",
      "userId": "02493792366473576187"
     },
     "user_tz": -120
    },
    "id": "MkaR6abAHcQe"
   },
   "outputs": [],
   "source": [
    "def xsqrdplusone(x):\n",
    "    f_x = x**2 + 1\n",
    "    return f_x"
   ]
  },
  {
   "cell_type": "markdown",
   "metadata": {},
   "source": [
    "#### (b) pollardAlgorithm2\n",
    "\n",
    "We will now create our main function based on \"Pollard's ρ\" algorithm, albeit with a twist.  \n",
    "In particular, in order to have some control over our program, we shall have as input not only $n$, but also an integer $N$ that is used to control the number of $x_i$ that will be created.\n",
    "Moreover, our algorithm will not only output the non-trivial factor, but all values that were calculated in each step."
   ]
  },
  {
   "cell_type": "code",
   "execution_count": 4,
   "metadata": {
    "executionInfo": {
     "elapsed": 297,
     "status": "ok",
     "timestamp": 1671741577941,
     "user": {
      "displayName": "Florias Papadopoulos",
      "userId": "02493792366473576187"
     },
     "user_tz": -120
    },
    "id": "MkaR6abAHcQe"
   },
   "outputs": [],
   "source": [
    "def pollardAlgorithm2(n,N,x_previous,chosen_function):\n",
    "  \n",
    "    correct = False\n",
    "    x_list = [x_previous]\n",
    "\n",
    "    for t in range(0,N+1):\n",
    "        x_next_nomod = chosen_function(x_previous)\n",
    "        x_next = x_next_nomod % n\n",
    "        x_list.append(x_next)\n",
    "        x_previous = x_next\n",
    "\n",
    "    for t in range(0,math.floor((N+1)/2)):\n",
    "        x_t = x_list[t]\n",
    "        x_2t = x_list[2*t]\n",
    "        x_minus = x_t - x_2t\n",
    "        gcd = math.gcd(x_minus,n)\n",
    "\n",
    "        if 1 < gcd < n:\n",
    "            correct = True\n",
    "            break \n",
    "\n",
    "    return correct, gcd, t, x_t, x_2t"
   ]
  },
  {
   "cell_type": "markdown",
   "metadata": {},
   "source": [
    "## Solving the problem\n",
    "\n",
    "We now create a small script that takes as input $n$, $N$ and the chosen function $x^2+1$, uses the main function above, and outputs a correct iteration of pollard's ρ algorithm. Moreover, in this script, instead of having $x_0$ as input, we will simply let $x_0$ iterate in the range $[0,n-1]$.  \n",
    "In the script below $n$ is chosen to be $902831$ for the assignment.  "
   ]
  },
  {
   "cell_type": "code",
   "execution_count": 28,
   "metadata": {
    "colab": {
     "base_uri": "https://localhost:8080/"
    },
    "executionInfo": {
     "elapsed": 421,
     "status": "ok",
     "timestamp": 1671741922531,
     "user": {
      "displayName": "Florias Papadopoulos",
      "userId": "02493792366473576187"
     },
     "user_tz": -120
    },
    "id": "r3i1oraWT1f8",
    "outputId": "3597a629-e847-4000-f46e-8040735a0286"
   },
   "outputs": [
    {
     "name": "stdout",
     "output_type": "stream",
     "text": [
      "The non-trivial factor that we were looking for is 823.\n",
      "We used n=902831, x_0 = 0 and the function x**2+1.\n",
      "The terms x_t=659180 and x_2t=766993 for t=31 were the ones used in the gcd.\n"
     ]
    }
   ],
   "source": [
    "n, N = 902831, 100\n",
    "chosen_function = xsqrdplusone\n",
    "\n",
    "for x_previous in range(0,n):\n",
    "    (correct, solution, t, x_t, x_2t) = pollardAlgorithm2(n, N, x_previous, chosen_function)\n",
    "    if correct == True:\n",
    "        print(\"The non-trivial factor that we were looking for is \" + str(solution) + \".\")\n",
    "        print(\"We used n=\" + str(n) + \", x_0 = \" + str(x_previous) + \" and the function x**2+1.\")\n",
    "        print(\"The terms x_t=\" + str(x_t) + \" and x_2t=\" + str(x_2t) + \" for t=\" + str(t) + \" were the ones used in the gcd.\")\n",
    "        break"
   ]
  }
 ],
 "metadata": {
  "colab": {
   "authorship_tag": "ABX9TyPf4KRY13wnnAznspYl+PHV",
   "provenance": []
  },
  "kernelspec": {
   "display_name": "Python 3 (ipykernel)",
   "language": "python",
   "name": "python3"
  },
  "language_info": {
   "codemirror_mode": {
    "name": "ipython",
    "version": 3
   },
   "file_extension": ".py",
   "mimetype": "text/x-python",
   "name": "python",
   "nbconvert_exporter": "python",
   "pygments_lexer": "ipython3",
   "version": "3.11.1"
  },
  "toc": {
   "base_numbering": 1,
   "nav_menu": {},
   "number_sections": true,
   "sideBar": true,
   "skip_h1_title": true,
   "title_cell": "Table of Contents",
   "title_sidebar": "Contents",
   "toc_cell": false,
   "toc_position": {},
   "toc_section_display": true,
   "toc_window_display": false
  }
 },
 "nbformat": 4,
 "nbformat_minor": 1
}
