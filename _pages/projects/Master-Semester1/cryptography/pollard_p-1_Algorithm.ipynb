{
 "cells": [
  {
   "cell_type": "markdown",
   "metadata": {},
   "source": [
    "# Pollard's p-1 algorithm for factoring\n",
    "\n",
    "\n",
    "This program was made for an assignment of the class ”Cryptography” of my master’s program:  \n",
    "\"Use Pollard's p-1 algorithm to factorize the number $n= 902831$.\"\n",
    "\n",
    "<u>**Pollard's p-1 algorithm**</u>  \n",
    "$\\cdot$ Input: Odd composite integer $n>3$  \n",
    "$\\cdot$ Output: A non-trivial factor of $n$  \n",
    "1. We choose an integer $b>1$ and compute the product $k=\\prod_{q \\in B} q^{\\lfloor \\log_qb \\rfloor},$ where $q$ traverses the set $B$ of primes $\\leq b$.\n",
    "2. We choose a number $a \\in \\{2, 3, \\dots, n-1 \\}$ and calculate $\\delta = gcd(a,n)$.\n",
    "3. If $\\delta > 1$, then $\\delta$ is the non-trivial factor of $n$ that we were looking for.  \n",
    "   If $\\delta < 1$, then we compute $d=gcd(a^k-1,n)$.\n",
    "4. If $1<d<n$, then $d$ is returned (and will be a non-trivial factor of $n$).  \n",
    "   If $d=1$, then we choose another integer $B$ and restart the process.\n",
    "\n",
    "Author: Florias Papadopoulos"
   ]
  },
  {
   "cell_type": "markdown",
   "metadata": {
    "toc": true
   },
   "source": [
    "<h1>Table of Contents<span class=\"tocSkip\"></span></h1>\n",
    "<div class=\"toc\"><ul class=\"toc-item\"><li><span><a href=\"#Importing-modules\" data-toc-modified-id=\"Importing-modules-1\"><span class=\"toc-item-num\">1&nbsp;&nbsp;</span>Importing modules</a></span></li><li><span><a href=\"#Defining-the-functions\" data-toc-modified-id=\"Defining-the-functions-2\"><span class=\"toc-item-num\">2&nbsp;&nbsp;</span>Defining the functions</a></span><ul class=\"toc-item\"><li><span><a href=\"#Starter-functions\" data-toc-modified-id=\"Starter-functions-2.1\"><span class=\"toc-item-num\">2.1&nbsp;&nbsp;</span>Starter functions</a></span></li><li><span><a href=\"#Pollard-p-1-function\" data-toc-modified-id=\"Pollard-p-1-function-2.2\"><span class=\"toc-item-num\">2.2&nbsp;&nbsp;</span>Pollard p-1 function</a></span></li></ul></li><li><span><a href=\"#Solving-the-problem\" data-toc-modified-id=\"Solving-the-problem-3\"><span class=\"toc-item-num\">3&nbsp;&nbsp;</span>Solving the problem</a></span></li></ul></div>"
   ]
  },
  {
   "cell_type": "markdown",
   "metadata": {
    "id": "PNZ6HpwtOdjK"
   },
   "source": [
    "## Importing modules\n",
    "\n",
    "We start by importing the modules that we will use"
   ]
  },
  {
   "cell_type": "code",
   "execution_count": 1,
   "metadata": {},
   "outputs": [],
   "source": [
    "import numpy as np\n",
    "import random\n",
    "import math"
   ]
  },
  {
   "cell_type": "markdown",
   "metadata": {},
   "source": [
    "If one or more modules are missing you can just type the code below in order to install a pip package in the current Jupyter kernel. For example, if numpy is missing, then we can use"
   ]
  },
  {
   "cell_type": "code",
   "execution_count": 2,
   "metadata": {},
   "outputs": [
    {
     "name": "stdout",
     "output_type": "stream",
     "text": [
      "Requirement already satisfied: numpy in c:\\users\\hp\\appdata\\local\\programs\\python\\python311\\lib\\site-packages (1.24.1)\n"
     ]
    }
   ],
   "source": [
    "import sys\n",
    "!{sys.executable} -m pip install numpy"
   ]
  },
  {
   "cell_type": "markdown",
   "metadata": {
    "id": "PNZ6HpwtOdjK"
   },
   "source": [
    "## Defining the functions"
   ]
  },
  {
   "cell_type": "markdown",
   "metadata": {
    "id": "PNZ6HpwtOdjK"
   },
   "source": [
    "### Starter functions\n",
    "\n",
    "#### (a) base_numbers\n",
    "\n",
    "We first need a function that takes as input an integer $b>1$ and outputs the set $B$ of primes smaller $\\leq b$."
   ]
  },
  {
   "cell_type": "code",
   "execution_count": 3,
   "metadata": {
    "id": "e8HaLmGvkVuz"
   },
   "outputs": [],
   "source": [
    "def base_numbers(b):\n",
    "    \n",
    "    base = []\n",
    "    for i in range(2, b + 1):\n",
    "        for j in range(2, int(i ** 0.5) + 1):\n",
    "            if i%j == 0:\n",
    "                break\n",
    "        else:\n",
    "            base.append(i)\n",
    "            \n",
    "    return base"
   ]
  },
  {
   "cell_type": "markdown",
   "metadata": {},
   "source": [
    "#### (b) multiplyList\n",
    "\n",
    "We will also need a function that can multiply all elements in a given \"python list\"."
   ]
  },
  {
   "cell_type": "code",
   "execution_count": 4,
   "metadata": {
    "id": "e8HaLmGvkVuz"
   },
   "outputs": [],
   "source": [
    "def multiplyList(xList) :\n",
    "    \n",
    "    product = 1\n",
    "    for x in xList:\n",
    "         product = product * x\n",
    "            \n",
    "    return product"
   ]
  },
  {
   "cell_type": "markdown",
   "metadata": {},
   "source": [
    "### Pollard p-1 function\n",
    "\n",
    "We will now create our main function based on \"Pollard's p-1\" algorithm, albeit with a twist.  \n",
    "In particular, in order to have some control over our program, we shall have as input not only $n$, but also an integer $b_{upper}$ which will denote the max value that the integer $b$ can take.  \n",
    "Moreover, our algorithm will not only output the non-trivial factor, but all values that were calculated in each step.\n",
    "\n",
    "##### Notes:\n",
    "1. Although the function below is able to work well for applications like the one that we need it for, it is not optimized.  \n",
    "   For example, values of $b$ can be used again with the same $a$ etc."
   ]
  },
  {
   "cell_type": "code",
   "execution_count": 7,
   "metadata": {
    "id": "e8HaLmGvkVuz"
   },
   "outputs": [],
   "source": [
    "def pollardAlgorithm1(n, b_upper):\n",
    "\n",
    "    factor = 0\n",
    "    delta = 0\n",
    "    d = 0\n",
    "    k = 0\n",
    "        \n",
    "    #we will be on the loop until we find a non-trivial factor\n",
    "    while True:\n",
    "        \n",
    "        #step1 - choosing randomly a number $b$ based on our restrictions\n",
    "        b = random.randrange(2, b_upper+1)\n",
    "\n",
    "        #computing the set $B$ for our chosen b\n",
    "        B = base_numbers(b)\n",
    "\n",
    "        #computing k\n",
    "        ki_list = []\n",
    "        for q in B:\n",
    "            ki = q*(math.floor(math.log(b, q)))\n",
    "            ki_list.append(ki)\n",
    "        k = multiplyList(ki_list)\n",
    "\n",
    "        #step2 - choosing a randomly and computing delta\n",
    "        a = random.randrange(2, n-1)\n",
    "        delta = math.gcd(a,n)\n",
    "\n",
    "        #step3\n",
    "        if delta > 1:\n",
    "            factor = delta\n",
    "            break\n",
    "        else:\n",
    "            d = math.gcd(a**k-1,n)\n",
    "            #step4\n",
    "            if 1 < d < n:\n",
    "                factor = d\n",
    "                break\n",
    "\n",
    "    return b, B, k, a, delta, d, factor"
   ]
  },
  {
   "cell_type": "markdown",
   "metadata": {},
   "source": [
    "## Solving the problem\n",
    "\n",
    "We now create a small script that takes as input $n$ and $b_{upper}$, uses the main function above, and outputs a correct iteration of Pollard's p-1 algorithm.  \n",
    "In the script below $n$ is chosen to be $902831$ for the assignment and $b_{upper}$ is chosen to be realtively small so that the algorithm runs smoothly."
   ]
  },
  {
   "cell_type": "code",
   "execution_count": 15,
   "metadata": {
    "colab": {
     "base_uri": "https://localhost:8080/"
    },
    "executionInfo": {
     "elapsed": 15,
     "status": "ok",
     "timestamp": 1671734067272,
     "user": {
      "displayName": "Florias Papadopoulos",
      "userId": "02493792366473576187"
     },
     "user_tz": -120
    },
    "id": "R3QLahV0lf9h",
    "outputId": "4f68a488-1ddf-4ccd-c53b-2a755da9fa4c"
   },
   "outputs": [
    {
     "name": "stdout",
     "output_type": "stream",
     "text": [
      "\n",
      "This number is a non-trivial factor of 902831 : 823\n",
      "The number was found using the p-1 algorithm of pollard, using the following:\n",
      "\n",
      "1. We chose b=10 which gave us the set B = {2,...,p_π(b)} = [2, 3, 5, 7]\n",
      "and we also calculated the number k=1260.\n",
      "2. We chose a number a=559640 and calculated δ=gcd(a,n)=823 which was the number that we were looking for (δ>1)\n"
     ]
    }
   ],
   "source": [
    "n = 902831\n",
    "b_upper = 10\n",
    "\n",
    "(b, B, k, a, delta, d, factor) = pollardAlgorithm1(n, b_upper)\n",
    "\n",
    "print(\"\")\n",
    "print(\"This number is a non-trivial factor of \" + str(n) + \" : \" + str(factor))\n",
    "print(\"The number was found using the p-1 algorithm of pollard, using the following:\")\n",
    "print(\"\")\n",
    "print(\"1. We chose b=\" + str(b) + \" which gave us the set B = {2,...,p_π(b)} =\", B)\n",
    "print(\"and we also calculated the number k=\" + str(k) + \".\")\n",
    "if factor == delta:\n",
    "    print(\"2. We chose a number a=\" + str(a) + \" and calculated δ=gcd(a,n)=\" + str(delta) + \" which was the number that we were looking for (δ>1)\")\n",
    "if factor == d:\n",
    "    print(\"2. We chose a number a=\" + str(a) + \" and calculated δ=gcd(a,n)=\" + str(delta) + \".\")\n",
    "    print(\"3. Because δ=1, we continue by calculating d=\" + str(d) + \" which was the number that we were looking (1<d<n).\")"
   ]
  }
 ],
 "metadata": {
  "colab": {
   "authorship_tag": "ABX9TyNimyQ0xB35TXzY5Zq7xqwm",
   "provenance": []
  },
  "kernelspec": {
   "display_name": "Python 3 (ipykernel)",
   "language": "python",
   "name": "python3"
  },
  "language_info": {
   "codemirror_mode": {
    "name": "ipython",
    "version": 3
   },
   "file_extension": ".py",
   "mimetype": "text/x-python",
   "name": "python",
   "nbconvert_exporter": "python",
   "pygments_lexer": "ipython3",
   "version": "3.11.1"
  },
  "toc": {
   "base_numbering": 1,
   "nav_menu": {},
   "number_sections": true,
   "sideBar": true,
   "skip_h1_title": true,
   "title_cell": "Table of Contents",
   "title_sidebar": "Contents",
   "toc_cell": true,
   "toc_position": {},
   "toc_section_display": true,
   "toc_window_display": false
  }
 },
 "nbformat": 4,
 "nbformat_minor": 1
}
