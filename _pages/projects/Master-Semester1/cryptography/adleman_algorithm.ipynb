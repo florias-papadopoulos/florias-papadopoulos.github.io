{
 "cells": [
  {
   "cell_type": "markdown",
   "metadata": {},
   "source": [
    "# Adleman's algorithm for discrete logarithms\n",
    "\n",
    "\n",
    "This program was made for an assignment of the class ”Cryptography” of my master’s program:  \n",
    "\"Use the Adleman algorithm to calculate the discrete logarithm $x$ inside $\\mathbb{Z}_N=\\mathbb{Z}_{1693}$, where $17^x \\equiv 101 \\, mod \\, 1693$.\"\n",
    "\n",
    "<u>**Adleman's algorithm**</u>  \n",
    "$\\cdot$ Input: A prime $N$, a primitive root $g \\, mod \\, N$ with $g \\in \\{2,\\dots,p-2\\}$ and $a \\in \\{1,\\dots,p-1\\}$  \n",
    "$\\cdot$ Output: $x=\\log_g a$\n",
    "1. We choose $B \\in \\mathbb{Z}^{+}$ with $B<N$ and define the set $F(B)$ of all primes $\\leq B$.\n",
    "2. For every $q \\in F(B)$, we compute* the discrete logarithm $x(q)=\\log_g q$ inside $\\mathbb{Z}_{N}^*$.\n",
    "3. We determine an integer $y \\in \\{0,\\dots,N-1\\}$ with $ag^y \\equiv \\prod_{q \\in F(B)} q^{e(q)} \\, (mod \\, N)$, where $e(q)$ is an integer, $\\geq 0$.\n",
    "4. The requested discrete logarithm can be computed by $\\log_g a = \\sum_{q \\in F(B)} x(q)e(q)-y \\, [mod \\, (N-1)]$.\n",
    "\n",
    "*In our implementation of the algorithm, the discrete logarithms will be computed using Pollard's algorithm for discrete logarithms. In theory, another way is proposed in order to compute them, but it won't be necessary here.\n",
    "\n",
    "Author: Florias Papadopoulos"
   ]
  },
  {
   "cell_type": "markdown",
   "metadata": {
    "id": "PNZ6HpwtOdjK"
   },
   "source": [
    "## Importing modules\n",
    "\n",
    "We start by importing the modules that we will use"
   ]
  },
  {
   "cell_type": "code",
   "execution_count": 1,
   "metadata": {
    "executionInfo": {
     "elapsed": 325,
     "status": "ok",
     "timestamp": 1672658327170,
     "user": {
      "displayName": "Florias Papadopoulos",
      "userId": "02493792366473576187"
     },
     "user_tz": -120
    },
    "id": "N96Vace5sDZY"
   },
   "outputs": [],
   "source": [
    "import math"
   ]
  },
  {
   "cell_type": "markdown",
   "metadata": {
    "id": "PNZ6HpwtOdjK"
   },
   "source": [
    "## Defining the functions"
   ]
  },
  {
   "cell_type": "markdown",
   "metadata": {},
   "source": [
    "### Starter functions\n",
    "\n",
    "#### (a) F\n",
    "\n",
    "We will need a function that can compute the set $F(B)$, given an integer $B$.  \n",
    "For example, if $B=10$, then $F(B)=\\{2,3,5,7\\}$."
   ]
  },
  {
   "cell_type": "code",
   "execution_count": 2,
   "metadata": {},
   "outputs": [],
   "source": [
    "def F(B):\n",
    "    base = []\n",
    "    for i in range(2, B + 1):\n",
    "        for j in range(2, int(i ** 0.5) + 1):\n",
    "            if i%j == 0:\n",
    "                break\n",
    "        else:\n",
    "            base.append(i)\n",
    "    return base"
   ]
  },
  {
   "cell_type": "markdown",
   "metadata": {},
   "source": [
    "#### (b) multiplyList\n",
    "\n",
    "We will also need a function that can multiply all elements in a given \"python list\"."
   ]
  },
  {
   "cell_type": "code",
   "execution_count": 3,
   "metadata": {},
   "outputs": [],
   "source": [
    "def multiplyList(xList) :\n",
    "    \n",
    "    product = 1\n",
    "    for x in xList:\n",
    "         product = product * x\n",
    "            \n",
    "    return product"
   ]
  },
  {
   "cell_type": "markdown",
   "metadata": {},
   "source": [
    "### Pollard's algorithm functions\n",
    "\n",
    "We will use the Pollard algorithm in order to compute the discrete logarithms on the 2nd step of the algorithm.  \n",
    "To do so, we import all functions related to the Pollard algorithm. More information on them can be found on the accompagnying .ipynb file.\n",
    "\n",
    "*We note that $n=|<g>|$."
   ]
  },
  {
   "cell_type": "code",
   "execution_count": 4,
   "metadata": {},
   "outputs": [],
   "source": [
    "def func(N,n,g,beta,x,a,b,S_1,S_2,S_3):\n",
    "\n",
    "  #upper case\n",
    "  if x in S_1:\n",
    "        one = (beta*x) % N\n",
    "        two = a % n\n",
    "        three = (b+1) % n\n",
    "        return one, two, three\n",
    "\n",
    "  #middle case\n",
    "  if x in S_2:\n",
    "        one = (x**2) % N\n",
    "        two = (2*a) % n\n",
    "        three = (2*b) % n\n",
    "        return one, two, three\n",
    "\n",
    "  #bottom case\n",
    "  if x in S_3:\n",
    "        one = (g*x) % N\n",
    "        two = (a+1) % n\n",
    "        three = b % n\n",
    "        return one, two, three\n",
    "    \n",
    "#---------------------------------------------------------------\n",
    "#---------------------------------------------------------------\n",
    "def tri_seq(N,n,g,beta,S_1,S_2,S_3,i_upper):\n",
    "\n",
    "    tri_seq_list = [[1,0,0]]\n",
    "    x_i, a_i, b_i = 1, 0, 0\n",
    "    for i in range(0,i_upper+1):\n",
    "        tri_seq_sub_list = []\n",
    "        (x_next, a_next, b_next) = func(N,n,g,beta,x_i,a_i,b_i,S_1,S_2,S_3)\n",
    "        tri_seq_sub_list.append(x_next)\n",
    "        tri_seq_sub_list.append(a_next)\n",
    "        tri_seq_sub_list.append(b_next)\n",
    "        tri_seq_list.append(tri_seq_sub_list)\n",
    "        x_i = x_next\n",
    "        a_i = a_next\n",
    "        b_i = b_next\n",
    "    return tri_seq_list\n",
    "\n",
    "#---------------------------------------------------------------\n",
    "#---------------------------------------------------------------\n",
    "def modulo_solver(b,a,n):\n",
    "    \n",
    "    #print(b,\"* x =\",a,\"(modn)\")\n",
    "    #print(\"=>\")\n",
    "    \n",
    "    x_list = []\n",
    "    if b != 0 and b == a:\n",
    "        x_list.append(1)\n",
    "    if b != 0 and b !=a :\n",
    "        gcd = math.gcd(math.gcd(b,a),n)\n",
    "        b_gcd = b//gcd\n",
    "        a_gcd = a//gcd\n",
    "        n_gcd = n//gcd\n",
    "        \n",
    "        #print(b_gcd,\"* x =\",a_gcd,\"(\",n_gcd,\")\")\n",
    "        if b_gcd == 1:\n",
    "            x = a_gcd % n_gcd\n",
    "        if b_gcd == -1:\n",
    "            x = (-1)*a_gcd % n_gcd\n",
    "        if b_gcd != 1 and b_gcd !=-1:\n",
    "            b_inv = pow(b_gcd, -1,n_gcd)\n",
    "            x = (b_inv*a_gcd) % n_gcd\n",
    "    \n",
    "        for k in range(0,gcd):\n",
    "            x_k = k*n_gcd + x\n",
    "            x_list.append(x_k)\n",
    "            \n",
    "    return x_list\n",
    "\n",
    "#---------------------------------------------------------------\n",
    "#---------------------------------------------------------------\n",
    "def verify(N,g,beta,solution):\n",
    "    return pow(g,solution,N) == beta\n",
    "\n",
    "#---------------------------------------------------------------\n",
    "#---------------------------------------------------------------\n",
    "def discr_pollardAlgorithm(N,n,g,beta,i_upper):\n",
    "    \n",
    "    #error message in case i_upper is not enough\n",
    "    proper_solution = \"problem, increase i_upper\"\n",
    "\n",
    "    #creating S_1,S_2,S_3\n",
    "    S_1 = set()\n",
    "    S_2 = set()\n",
    "    S_3 = set()\n",
    "\n",
    "    for x in range(1,N):\n",
    "        if (x-1) % 3 == 0:\n",
    "            S_1.add(x)\n",
    "        if x % 3 == 0:\n",
    "            S_2.add(x)\n",
    "        if (x-2) % 3 == 0:\n",
    "            S_3.add(x)\n",
    "\n",
    "    #creating tri_seq\n",
    "    seq = tri_seq(N,n,g,beta,S_1,S_2,S_3,i_upper)\n",
    "\n",
    "    #finding the solutions z\n",
    "    z_list = []\n",
    "\n",
    "    for t in range(1,math.floor(i_upper/2)):\n",
    "        [x_t, a_t, b_t] = seq[t]\n",
    "        [x_2t, a_2t, b_2t] = seq[2*t]\n",
    "\n",
    "        if x_t == x_2t:\n",
    "            b_minus = b_2t - b_t\n",
    "            a_minus = a_t - a_2t\n",
    "            z_list = modulo_solver(b_minus,a_minus,n)\n",
    "            \n",
    "            #finding and verifying the correct z from the list that contains all of the solutions z\n",
    "            for z in z_list:\n",
    "                if verify(N,g,beta,z) == True:\n",
    "                    proper_solution = z\n",
    "                    break\n",
    "            break\n",
    "\n",
    "    return S_1, S_2, S_3, seq, t, x_t, x_2t, b_t, b_2t, a_t, a_2t, z_list, proper_solution"
   ]
  },
  {
   "cell_type": "markdown",
   "metadata": {},
   "source": [
    "### Adleman function\n",
    "\n",
    "We will now create our main function based on the Adleman algorithm.  \n",
    "This will be the only problem that we will be basically solving partially, only for the case $B=11$, which is the one that we are interested in for our problem.  \n",
    "Moreover, we will use as input again an index $i_{upper}$ for the needs of the Pollard algorithm for discrete logarithms, as well as another index $e_{upper}$ which will be used in order to control the size of the \"multi_list\", which is basically a set $\\{ \\prod_{q \\in F(B)} q^{e(q)} \\, (mod \\, N) \\, | \\, 0 \\leq e(q) \\leq e_{upper} \\}$."
   ]
  },
  {
   "cell_type": "code",
   "execution_count": 5,
   "metadata": {
    "executionInfo": {
     "elapsed": 8,
     "status": "ok",
     "timestamp": 1672658327478,
     "user": {
      "displayName": "Florias Papadopoulos",
      "userId": "02493792366473576187"
     },
     "user_tz": -120
    },
    "id": "0E3yOcSyslGB"
   },
   "outputs": [],
   "source": [
    "def adlemanAlgorithm(N,n,g,a,i_upper,e_upper):\n",
    "    \n",
    "    B=11 #B=11 is perfect for our problem\n",
    "        \n",
    "    #computing the set F(B)\n",
    "    F_B = F(B)\n",
    "    \n",
    "    #finding the discretes logarithms of step2\n",
    "    X_q = []\n",
    "    for q in F_B:\n",
    "        (S_1, S_2, S_3, seq, t, x_t, x_2t, b_t, b_2t, a_t, a_2t, z_list, proper_solution) = discr_pollardAlgorithm(N,n,g,q,i_upper)\n",
    "        X_q.append(proper_solution)\n",
    "        \n",
    "    #calculating the product of the modular equation for F(B)=F(11)={1,2,3,5,7,11}\n",
    "    all_list = []\n",
    "    multi_list = []\n",
    "    for e_0 in range(e_upper+1):\n",
    "        for e_1 in range(e_upper+1):\n",
    "            for e_2 in range(e_upper+1):\n",
    "                for e_3 in range(e_upper+1):\n",
    "                    for e_4 in range(e_upper+1):\n",
    "                        multi = (((F_B[0] ** e_0) % N) * ((F_B[1] ** e_1) % N) * ((F_B[2] ** e_2) % N) * \\\n",
    "                                 ((F_B[3] ** e_3) % N) * ((F_B[4] ** e_4) % N)) % N\n",
    "                        all_list.append((multi, e_0, e_1, e_2, e_3, e_4))\n",
    "                        multi_list.append(multi)\n",
    "\n",
    "    #checking if there is a y such that agy=ag^y belongs in the \"multi_list\"\n",
    "    discr_log = 0\n",
    "    for y in range(N):\n",
    "        agy = (a*(g**y)) % N\n",
    "        \n",
    "        #when such a y is found, the discrete logarithm is computed as mentioned in step4\n",
    "        if agy in multi_list:\n",
    "            index_agy = multi_list.index(agy)\n",
    "            (multi, e_0, e_1, e_2, e_3, e_4) = all_list[index_agy]\n",
    "            discr_log = (X_q[0]*e_0 + X_q[1]*e_1 + X_q[2]*e_2 + X_q[3]*e_3 + X_q[4]*e_4 -y) % n #n=N-1\n",
    "            break\n",
    "\n",
    "    return F_B, X_q, y, multi, e_0, e_1, e_2, e_3, e_4, discr_log\n"
   ]
  },
  {
   "cell_type": "markdown",
   "metadata": {},
   "source": [
    "## Solving the problem\n",
    "\n",
    "We create a script that uses the above function to return us a text that elaborates on all the values that were computed in each step of the algorithm.  \n",
    "In our problem $N=1693$, $n=1692$, $g=17$ and $a =101$."
   ]
  },
  {
   "cell_type": "code",
   "execution_count": 6,
   "metadata": {
    "colab": {
     "base_uri": "https://localhost:8080/"
    },
    "executionInfo": {
     "elapsed": 9,
     "status": "ok",
     "timestamp": 1672658327479,
     "user": {
      "displayName": "Florias Papadopoulos",
      "userId": "02493792366473576187"
     },
     "user_tz": -120
    },
    "id": "vM-nvZAQNjR7",
    "outputId": "bccec40e-6bf5-42dc-cd55-c060bdfbeb72"
   },
   "outputs": [
    {
     "name": "stdout",
     "output_type": "stream",
     "text": [
      "We wanted to find the discrete logarithm log_17(101)\n",
      "For this, we used Adleman's Algorithm and did the following:\n",
      "\n",
      "In step 1, we chose B=11 and formed the set F(B)= [2, 3, 5, 7, 11]\n",
      "In step 2, for each q in F(B) we calculated the discrete logarithm X(q), getting the set [1201, 842, 187, 1085, 549]\n",
      "In step 3, we found y= 1 such that ag^y (equiv) Π_(q in F(B))[q^e(q)] (equiv) 24 (modp), with e_0=3, e_1=1, e_2=0, e_3=0, e_4=0\n",
      "In step 4, we calculated the discrete logarithm log_17(101)=1060 that we were looking for calculating the last sum of the algorithm\n"
     ]
    }
   ],
   "source": [
    "#input\n",
    "N, n, g, a = 1693, 1692, 17, 101\n",
    "i_upper, e_upper = 1000, 4\n",
    "#input\n",
    "\n",
    "(F_B, X_q, y, multi, e_0, e_1, e_2, e_3, e_4, discr_log) = adlemanAlgorithm(N,n,g,a,i_upper,e_upper)\n",
    "\n",
    "print(\"We wanted to find the discrete logarithm log_\" +str(g) + \"(\" + str(a)+ \")\")\n",
    "print(\"For this, we used Adleman's Algorithm and did the following:\")\n",
    "print(\"\")\n",
    "print(\"In step 1, we chose B=11 and formed the set F(B)=\", F_B)\n",
    "print(\"In step 2, for each q in F(B) we calculated the discrete logarithm X(q), getting the set\", X_q) \n",
    "print(\"In step 3, we found y= \" + str(y) + \" such that ag^y (equiv) Π_(q in F(B))[q^e(q)] (equiv) \" + str(multi) + \" (modp), with e_0=\" +str(e_0) + \", e_1=\" +str(e_1) + \", e_2=\" + str(e_2) + \", e_3=\" + str(e_3) + \", e_4=\" + str(e_4))\n",
    "print(\"In step 4, we calculated the discrete logarithm log_\" +str(g) + \"(\" + str(a)+ \")=\" + str(discr_log) + \" that we were looking for calculating the last sum of the algorithm\")"
   ]
  }
 ],
 "metadata": {
  "colab": {
   "authorship_tag": "ABX9TyOIRrBB34OzXkla9o4YRDY8",
   "provenance": []
  },
  "kernelspec": {
   "display_name": "Python 3 (ipykernel)",
   "language": "python",
   "name": "python3"
  },
  "language_info": {
   "codemirror_mode": {
    "name": "ipython",
    "version": 3
   },
   "file_extension": ".py",
   "mimetype": "text/x-python",
   "name": "python",
   "nbconvert_exporter": "python",
   "pygments_lexer": "ipython3",
   "version": "3.11.1"
  },
  "toc": {
   "base_numbering": 1,
   "nav_menu": {},
   "number_sections": true,
   "sideBar": true,
   "skip_h1_title": true,
   "title_cell": "Table of Contents",
   "title_sidebar": "Contents",
   "toc_cell": false,
   "toc_position": {},
   "toc_section_display": true,
   "toc_window_display": false
  }
 },
 "nbformat": 4,
 "nbformat_minor": 1
}
