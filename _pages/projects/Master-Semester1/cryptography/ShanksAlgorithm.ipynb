{
 "cells": [
  {
   "cell_type": "markdown",
   "metadata": {},
   "source": [
    "# Shanks' algorithm for discrete logarithms\n",
    "\n",
    "\n",
    "This program was made for an assignment of the class ”Cryptography” of my master’s program:  \n",
    "\"Use Shanks algorithm to calculate the discrete logarithm $x$ inside $\\mathbb{Z}_N=\\mathbb{Z}_{1693}$, where $17^x \\equiv 101 \\, mod \\, 1693$.\"\n",
    "\n",
    "<u>**Shanks' algorithm**</u>  \n",
    "$\\cdot$ Input: A cyclic group $G=<g>$ with $|G|=n>1$ and $a \\in G$  \n",
    "$\\cdot$ Output: $x=\\log_g a$\n",
    "1. Set $m= \\lfloor \\sqrt{n} \\rfloor + 1$.\n",
    "2. Calculate the elements of the set $B=\\{(ag^{-r},r)/r=0,\\dots,m-1\\}$.  \n",
    "   If we can find an index $r$, such that $r$ is the smallest integer of the the set $\\{0, \\dots, m-1\\}$ with $ag^{-r}=1$, then $r=x$ is outputted.\n",
    "3. If we cannot find such an $r$, then we compute $d=g^m$.\n",
    "4. For $q=1,2,\\dots$ we compute the powers $d^q$ until we find $d^q=ag^{-r}$, for some $r \\in \\{0, \\dots, m-1\\}$.\n",
    "5. The integer $x=qm+r$ is returned.\n",
    "\n",
    "Author: Florias Papadopoulos"
   ]
  },
  {
   "cell_type": "markdown",
   "metadata": {
    "id": "PNZ6HpwtOdjK"
   },
   "source": [
    "## Importing modules\n",
    "\n",
    "We start by importing the modules that we will use"
   ]
  },
  {
   "cell_type": "code",
   "execution_count": 1,
   "metadata": {
    "id": "JTNMZFb7lg50"
   },
   "outputs": [],
   "source": [
    "import math\n",
    "import itertools"
   ]
  },
  {
   "cell_type": "markdown",
   "metadata": {
    "id": "PNZ6HpwtOdjK"
   },
   "source": [
    "## Defining the functions"
   ]
  },
  {
   "cell_type": "markdown",
   "metadata": {},
   "source": [
    "#### (a) shanksAlgorithm\n",
    "\n",
    "For this algorithm, we do not need any starter functions.  \n",
    "As mentioned before, our goal is to find $x=\\log_g a$, given a cyclic group $G=<g>$ with $|G|=n$ and $g^x \\equiv a \\, mod \\, N$.  \n",
    "Therefore, we will create a script that has as input the values $N, n, g, a$ and returns $x$, along with the other values that were computed in each step of the algorithm."
   ]
  },
  {
   "cell_type": "code",
   "execution_count": 8,
   "metadata": {
    "id": "JTNMZFb7lg50"
   },
   "outputs": [],
   "source": [
    "def shanksAlgorithm(N,n,g,a):\n",
    "\n",
    "    #step1\n",
    "    m = math.floor(math.sqrt(n))+1\n",
    "\n",
    "    #step2\n",
    "    B_list = []\n",
    "\n",
    "    for r in range(0,m):\n",
    "        g_inv = pow(g, -1, N)\n",
    "        agr = a*((g_inv**r) % N) % N\n",
    "        B_list.append(agr)\n",
    "\n",
    "        if agr == 1:\n",
    "            r_end = r\n",
    "            return r_end ,0, 0, 0, 0, m, B_list\n",
    "\n",
    "    #step3\n",
    "    d = (g**m) % N\n",
    "\n",
    "    for q in itertools.count(start=1):\n",
    "        dq = (d**q) % N\n",
    "        if dq in B_list:\n",
    "            r = B_list.index(dq)\n",
    "            x = q*m + r\n",
    "            break\n",
    "  \n",
    "    return x, d, dq, q, r, m, B_list"
   ]
  },
  {
   "cell_type": "markdown",
   "metadata": {},
   "source": [
    "## Solving the problem\n",
    "\n",
    "We create a script that uses the above function to return us a text that elaborates on all the values that were computed in each step of the algorithm.  \n",
    "In our problem $N=1693$, $n=1962$, $g=17$ and $a=101$."
   ]
  },
  {
   "cell_type": "code",
   "execution_count": 13,
   "metadata": {
    "colab": {
     "base_uri": "https://localhost:8080/"
    },
    "executionInfo": {
     "elapsed": 14,
     "status": "ok",
     "timestamp": 1672656319541,
     "user": {
      "displayName": "Florias Papadopoulos",
      "userId": "02493792366473576187"
     },
     "user_tz": -120
    },
    "id": "ZXZG-AJ2nPn3",
    "outputId": "e70f507c-4116-4431-e11d-7f2123632515"
   },
   "outputs": [
    {
     "name": "stdout",
     "output_type": "stream",
     "text": [
      "The discrete logarithm that you were looking for is x=1060.\n",
      "In step 1, we found m=42.\n",
      "In step 2, we calculated the set B= [101, 1201, 469, 1621, 1390, 1476, 286, 216, 909, 651, 835, 1045, 659, 1433, 881, 251, 1409, 780, 743, 940, 852, 1046, 1157, 566, 830, 248, 1608, 1688, 896, 949, 255, 15, 698, 539, 928, 1648, 1292, 76, 602, 135, 1203, 1465]\n",
      "We didn't find any r such that a*(g**-r) = 1.\n",
      "In step 3, we calculated d=g**m=89.\n",
      "In step 4, we calculated d**q for q=1,2,... until we found q=25 with d**q=835 which is equal to a*(g**-r) for r=10.\n",
      "In step 5, we found the discrete logarithm x=q*m+r=1060.\n"
     ]
    }
   ],
   "source": [
    "N, n, g, a =1693, 1692, 17, 101\n",
    "\n",
    "(discr_log, d_or_zero, dq_or_zero, q_or_zero, r_or_zero, m, B_list) = shanksAlgorithm(N,n,g,a)\n",
    "print(\"The discrete logarithm that you were looking for is x=\" + str(discr_log) + \".\")\n",
    "print(\"In step 1, we found m=\" + str(m) + \".\")\n",
    "print(\"In step 2, we calculated the set B=\", B_list)\n",
    "if q_or_zero == 0:\n",
    "    print(\"Calculating a*(g**-r), for r=0,1,...,m-1 we found the discrete log when r=\" + str(discr_log) + \".\")\n",
    "else:\n",
    "    print(\"We didn't find any r such that a*(g**-r) = 1.\")\n",
    "    print(\"In step 3, we calculated d=g**m=\" + str(d_or_zero) + \".\")\n",
    "    print(\"In step 4, we calculated d**q for q=1,2,... until we found q=\" + str(q_or_zero) + \" with d**q=\" + str(dq_or_zero) \\\n",
    "          + \" which is equal to a*(g**-r) for r=\" + str(r_or_zero) + \".\")\n",
    "    print(\"In step 5, we found the discrete logarithm x=q*m+r=\" + str(discr_log) + \".\")"
   ]
  }
 ],
 "metadata": {
  "colab": {
   "authorship_tag": "ABX9TyP1LBrzUYWwVTgQdcMx5ZhS",
   "provenance": []
  },
  "kernelspec": {
   "display_name": "Python 3 (ipykernel)",
   "language": "python",
   "name": "python3"
  },
  "language_info": {
   "codemirror_mode": {
    "name": "ipython",
    "version": 3
   },
   "file_extension": ".py",
   "mimetype": "text/x-python",
   "name": "python",
   "nbconvert_exporter": "python",
   "pygments_lexer": "ipython3",
   "version": "3.11.1"
  },
  "toc": {
   "base_numbering": 1,
   "nav_menu": {},
   "number_sections": true,
   "sideBar": true,
   "skip_h1_title": true,
   "title_cell": "Table of Contents",
   "title_sidebar": "Contents",
   "toc_cell": false,
   "toc_position": {},
   "toc_section_display": true,
   "toc_window_display": false
  }
 },
 "nbformat": 4,
 "nbformat_minor": 1
}
