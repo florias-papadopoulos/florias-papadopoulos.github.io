{
 "cells": [
  {
   "cell_type": "markdown",
   "metadata": {},
   "source": [
    "# Dixon's algorithm for factoring\n",
    "\n",
    "\n",
    "This program was made for an assignment of the class ”Cryptography” of my master’s program:  \n",
    "\"Use Dixon's algorithm to factorize the number $n= 902831$.\"\n",
    "\n",
    "<u>**Dixon's algorithm**</u>  \n",
    "$\\cdot$ Input: Odd composite integer $n>3$  \n",
    "$\\cdot$ Output: A non-trivial factor of $n$  \n",
    "1. We choose a positive integer $y$ and create the \"factor base*\" $B$ of all primes $\\leq y$, i.e. $B=\\{-1,p_1, \\dots, p_{\\pi(y)}\\}$.\n",
    "2. If none of the elements of $B$ divides $n$,  \n",
    "   then we find integers $b_i \\in \\{2, \\dots, n-1\\}$ $(i=1, \\dots, \\pi(y)+2)$ which are \"$B$-adapted*\" over n.\n",
    "3. We write $b_i^2 \\equiv (-1)^{a_{i0}} p_1^{a_{i1}} \\dots p_{\\pi(y)}^{a_{i\\pi(y)}} \\, (mod \\, n)$  \n",
    "and correspond each $b_i$ to a vector $u_i=(u_{i0}, \\dots, u_{i\\pi(y)})$ with \\begin{cases} u_{ij}=0, \\; \\text{if } a_{ij} \\text{ is even} \\\\ u_{ij}=1, \\; \\text{if } a_{ij} \\text{ is odd} \\end{cases}\n",
    "4. We find a set of indexes $T \\subseteq \\{1, \\dots, \\pi(y)+2\\}$ such that $\\sum_{i \\in T}u_i = 0$ in $\\mathbb{Z}_2^{\\pi(y)+1}$.\n",
    "5. We calculate $b=\\prod_{i \\in T}b_i$, $c=p_1^{\\gamma_1} \\dots p_{\\pi(y)}^{\\gamma_{\\pi(y)}}$ with $\\gamma_j = \\frac{1}{2} \\sum_{i \\in T} a_{ij}$  $(j=1, \\dots, \\pi(y))$.\n",
    "6. If $b \\not\\equiv \\pm c \\, (mod \\, n)$, then we calculate the $gcd(b+c,n)$, which will be a non-trivial factor of n.\n",
    "7. If $b \\equiv \\pm c \\, (mod \\, n)$, then we choose another $T$, or a larger $y$ and repeat the process.\n",
    "\n",
    "\n",
    "##### Notes:\n",
    "A set of the form $B=\\{-1,p_1,\\dots,p_m\\}$ where $p_1, \\dots, p_m$ are different primes is called a factor base.    \n",
    "An integer will be called \"$B$-smooth\" if it can be written as a product of elements of $B$.  \n",
    "An integer will be called \"$B$-adapted\" over a positive integer $m$ if $\\exists$ $B$-smooth integer $c$ such that $-\\frac{n}{2}<c<\\frac{n}{2}$ and $b^2 \\equiv c \\, (mod \\, n)$.\n",
    "\n",
    "Author: Florias Papadopoulos"
   ]
  },
  {
   "cell_type": "markdown",
   "metadata": {
    "id": "PNZ6HpwtOdjK"
   },
   "source": [
    "## Importing modules\n",
    "\n",
    "We start by importing the modules that we will use"
   ]
  },
  {
   "cell_type": "code",
   "execution_count": 1,
   "metadata": {
    "executionInfo": {
     "elapsed": 12,
     "status": "ok",
     "timestamp": 1671485110359,
     "user": {
      "displayName": "Florias Papadopoulos",
      "userId": "02493792366473576187"
     },
     "user_tz": -120
    },
    "id": "SiTDk65pBAV_"
   },
   "outputs": [],
   "source": [
    "import numpy as np\n",
    "import math\n",
    "import random\n",
    "import sys\n",
    "from collections import OrderedDict"
   ]
  },
  {
   "cell_type": "markdown",
   "metadata": {},
   "source": [
    "If one or more modules are missing you can just type the code below in order to install a pip package in the current Jupyter kernel. For example, if numpy is missing, then we can use"
   ]
  },
  {
   "cell_type": "code",
   "execution_count": 2,
   "metadata": {},
   "outputs": [
    {
     "name": "stdout",
     "output_type": "stream",
     "text": [
      "Requirement already satisfied: numpy in c:\\users\\hp\\appdata\\local\\programs\\python\\python311\\lib\\site-packages (1.24.1)\n"
     ]
    }
   ],
   "source": [
    "import sys\n",
    "!{sys.executable} -m pip install numpy"
   ]
  },
  {
   "cell_type": "markdown",
   "metadata": {
    "id": "PNZ6HpwtOdjK"
   },
   "source": [
    "## Defining the functions"
   ]
  },
  {
   "cell_type": "markdown",
   "metadata": {
    "id": "PNZ6HpwtOdjK"
   },
   "source": [
    "### Starter functions\n",
    "\n",
    "#### (a) base_numbers\n",
    "\n",
    "We first need a function that takes as input an integer $y$ and outputs the factor set $B$, which contains -1 & primes $\\leq y$.  \n",
    "A for/else loop is used inside this function, which is not that known. For more information, look [here](https://book.pythontips.com/en/latest/for_-_else.html) (working link in 19/01/2023)."
   ]
  },
  {
   "cell_type": "code",
   "execution_count": 3,
   "metadata": {},
   "outputs": [],
   "source": [
    "def base_numbers(y):\n",
    "    base = [-1]\n",
    "    for i in range(2, y + 1):\n",
    "          for j in range(2, int(i ** 0.5) + 1):\n",
    "                if i%j == 0:\n",
    "                    break\n",
    "          \n",
    "          else:\n",
    "                base.append(i)\n",
    "    return base"
   ]
  },
  {
   "cell_type": "markdown",
   "metadata": {},
   "source": [
    "#### (b) bi_testset\n",
    "\n",
    "A common trick when trying to find the \"$B$-adapted\" $b_i$ is to search among the integers of the form $\\lfloor \\sqrt{kn} \\rfloor + j$, where $k,j=1,2,\\dots$.  \n",
    "For this reason we need a function that will have as input the integers $n$, $k_{upper}$ (the max value that $k$ can be) and $j_{upper}$ (the max value that $j$ can be), and as output the \"test-set\" of these \"possible $b_i$\"."
   ]
  },
  {
   "cell_type": "code",
   "execution_count": 4,
   "metadata": {
    "executionInfo": {
     "elapsed": 12,
     "status": "ok",
     "timestamp": 1671485110359,
     "user": {
      "displayName": "Florias Papadopoulos",
      "userId": "02493792366473576187"
     },
     "user_tz": -120
    },
    "id": "SiTDk65pBAV_"
   },
   "outputs": [],
   "source": [
    "def bi_testset(n, k_upper, j_upper):\n",
    "    bi_testset = set()\n",
    "    for k in range(1,k_upper+1):\n",
    "        v1 = math.floor((k*n)**0.5)\n",
    "        for j in range(1,j_upper+1): \n",
    "            bi_testset.add(v1 + j)\n",
    "    return bi_testset"
   ]
  },
  {
   "cell_type": "markdown",
   "metadata": {},
   "source": [
    "#### (c) sublist\n",
    "\n",
    "We will also need a function that can check if a python list is a subset of another list."
   ]
  },
  {
   "cell_type": "code",
   "execution_count": 5,
   "metadata": {
    "executionInfo": {
     "elapsed": 12,
     "status": "ok",
     "timestamp": 1671485110359,
     "user": {
      "displayName": "Florias Papadopoulos",
      "userId": "02493792366473576187"
     },
     "user_tz": -120
    },
    "id": "SiTDk65pBAV_"
   },
   "outputs": [],
   "source": [
    "def sublist(lst1, lst2):\n",
    "    return all([(x in lst2) for x in lst1])"
   ]
  },
  {
   "cell_type": "markdown",
   "metadata": {},
   "source": [
    "#### (d) generatePrimeFactors\n",
    "\n",
    "Finally, we need a function that can take a number $N$ and calculate its prime factors, along with their exponents.  \n",
    "This function works with an accompanying algorithm (the Sieve of Eratosthenes)."
   ]
  },
  {
   "cell_type": "code",
   "execution_count": 6,
   "metadata": {
    "executionInfo": {
     "elapsed": 12,
     "status": "ok",
     "timestamp": 1671485110359,
     "user": {
      "displayName": "Florias Papadopoulos",
      "userId": "02493792366473576187"
     },
     "user_tz": -120
    },
    "id": "SiTDk65pBAV_"
   },
   "outputs": [],
   "source": [
    "#Python3 program to print prime factors and their powers using Sieve Of Eratosthenes (found online, with small changes by me -F)\n",
    "# Using SieveOfEratosthenes to  find smallest prime factor of all the numbers.\n",
    "# For example, if N is 10, s[2] = s[4] = s[6] = s[10] = 2, s[3] = s[9] = 3, s[5] = 5, s[7] = 7\n",
    "\n",
    "def generatePrimeFactors(N):\n",
    "    # s[i] is going to store smallest prime factor of i.\n",
    "    s = [0] * (N+1)\n",
    "    \n",
    "    # Filling values in s[] using the sieve\n",
    "    # Create a boolean array \"prime[0..n]\" and initialize all entries in it as false.\n",
    "    prime = [False] * (N+1)\n",
    "    # Initializing smallest factor equal to 2 for all the even numbers\n",
    "    for i in range(2, N+1, 2):\n",
    "        s[i] = 2\n",
    "    # For odd numbers less than equal to n\n",
    "    for i in range(3, N+1, 2):\n",
    "        if (prime[i] == False):            \n",
    "            # s(i) for a prime is the number itself\n",
    "            s[i] = i\n",
    "            # For all multiples of current prime number\n",
    "            for j in range(i, int(N / i) + 1, 2):\n",
    "                if (prime[i*j] == False):\n",
    "                    prime[i*j] = True\n",
    "                    # i is the smallest prime factor for number \"i*j\".\n",
    "                    s[i * j] = i\n",
    "    \n",
    "    # Current prime factor of N\n",
    "    curr = s[N]   \n",
    "    # Power of current prime factor + allagh dikia mou\n",
    "    cnt = 1\n",
    "    curr_set = []\n",
    "    cnt_set = []\n",
    "    # Printing prime factors and their powers\n",
    "    while (N > 1):\n",
    "        N //= s[N]\n",
    "        # N is now N/s[N]. If new N also has smallest prime factor as curr, increment power\n",
    "        if (curr == s[N]):\n",
    "            cnt += 1\n",
    "            continue\n",
    "        curr_set.append(curr)\n",
    "        cnt_set.append(cnt)\n",
    "        # Update current prime factor as s[N] and initializing count as 1.\n",
    "        curr = s[N]\n",
    "        cnt = 1\n",
    "        \n",
    "    return [curr_set, cnt_set]"
   ]
  },
  {
   "cell_type": "markdown",
   "metadata": {
    "id": "PNZ6HpwtOdjK"
   },
   "source": [
    "### Main functions\n",
    "\n",
    "#### (a) ci_all\n",
    "\n",
    "A function that takes as input $n, k_{upper}, j_{upper} \\text{ and } y$, and returns the real $b_i$, the $c_i = b_i^2 \\, mod \\, n$ and the bases and exponents of the prime factorization of $c_i$."
   ]
  },
  {
   "cell_type": "code",
   "execution_count": 7,
   "metadata": {
    "executionInfo": {
     "elapsed": 12,
     "status": "ok",
     "timestamp": 1671485110359,
     "user": {
      "displayName": "Florias Papadopoulos",
      "userId": "02493792366473576187"
     },
     "user_tz": -120
    },
    "id": "SiTDk65pBAV_"
   },
   "outputs": [],
   "source": [
    "def ci_all(n,k_upper,j_upper,y):\n",
    "    base = base_numbers(y)\n",
    "    bi = bi_testset(n,k_upper,j_upper)\n",
    "    bi_set = []\n",
    "    c_set = []\n",
    "    c_set_base = []\n",
    "    c_set_exponent = []\n",
    "    c_set_bases = []\n",
    "    c_set_exponents = []\n",
    "    c_set_indexes =[]\n",
    "    c_set_index =[]\n",
    "\n",
    "    for i in bi:\n",
    "        j = i**2\n",
    "        z = j % n\n",
    "        [a,b] = generatePrimeFactors(z)\n",
    "        if sublist(a,base) == True:\n",
    "            bi_set.append(i)\n",
    "            c_set_base = a\n",
    "            c_set_exponent = b\n",
    "            c_set_bases.append(c_set_base)\n",
    "            c_set_exponents.append(c_set_exponent)\n",
    "\n",
    "            for s in range(0,len(c_set_base)):\n",
    "                e = base.index(c_set_base[s])\n",
    "                c_set_index.append(e) #index kanei mono prwto occurence prosoxh!\n",
    "            c_set_indexes.append(c_set_index)\n",
    "            c_set_index = []\n",
    "\n",
    "            q=0\n",
    "            u=0\n",
    "            c_number=1\n",
    "            while u < len(c_set_base):\n",
    "                c_number = c_set_base[u]**c_set_exponent[q] * c_number\n",
    "                u=u+1\n",
    "                q=q+1\n",
    "            c_set.append(c_number)\n",
    "\n",
    "    return c_set, c_set_bases, c_set_exponents, c_set_indexes, bi_set"
   ]
  },
  {
   "cell_type": "markdown",
   "metadata": {
    "id": "PNZ6HpwtOdjK"
   },
   "source": [
    "#### (b) basics\n",
    "\n",
    "This function is used as a \"superset\" of the previous one.  \n",
    "It returns everything the previous function outputted, but it also returns some randomly chosen $b_i$, with their corresponing $c_i$ etc.  \n",
    "Moreover, the set $U$ of the $u_i$ is also created, as defined in the algorithm."
   ]
  },
  {
   "cell_type": "code",
   "execution_count": 8,
   "metadata": {
    "executionInfo": {
     "elapsed": 12,
     "status": "ok",
     "timestamp": 1671485110359,
     "user": {
      "displayName": "Florias Papadopoulos",
      "userId": "02493792366473576187"
     },
     "user_tz": -120
    },
    "id": "SiTDk65pBAV_"
   },
   "outputs": [],
   "source": [
    "def basics(n,k_upper,j_upper,y):\n",
    "    base = base_numbers(y)\n",
    "    (c_set, c_set_bases, c_set_exponents, c_set_indexes, bi_set) = ci_all(n,k_upper,j_upper,y)\n",
    "\n",
    "    bi_set_list = list(bi_set)\n",
    "    bi_random = []\n",
    "    bi_randoms = []\n",
    "    base = base_numbers(y)\n",
    "    x = len(base)+1\n",
    "    if x > len(bi_set_list):\n",
    "        print(\"The size of the bi_set is: \" + str(len(bi_set_list)) + \" which is smaller than \" + str(x))\n",
    "        sys.exit(\"Not enough numbers inside the set of bi numbers, choose larger y or/and k or/and j.\")\n",
    "    else:\n",
    "        bi_random = random.sample(bi_set_list, x)\n",
    "\n",
    "        index_of_random_in_bi_set = []\n",
    "        for i in bi_random:\n",
    "            q = bi_set_list.index(i)\n",
    "            index_of_random_in_bi_set.append(q)\n",
    "\n",
    "        ci_random = []\n",
    "        ci_random_bases = []\n",
    "        ci_random_exponents = []\n",
    "        u_set =[]\n",
    "        for m in index_of_random_in_bi_set:\n",
    "\n",
    "            c_set_exponents_m = c_set_exponents[m]\n",
    "            c_set_indexes_m = c_set_indexes[m]\n",
    "\n",
    "            u_m = []\n",
    "            for i in range(0,len(base)):\n",
    "                q = 0\n",
    "                u_m.append(q)\n",
    "\n",
    "            for t in range(0,len(c_set_indexes_m)):\n",
    "                w = c_set_exponents_m[t]\n",
    "                z = c_set_indexes_m[t]\n",
    "                if w % 2 != 0:\n",
    "                    u_m[z] = 1\n",
    "\n",
    "            r0 = c_set[m]\n",
    "            r1 = c_set_bases[m]\n",
    "            r2 = c_set_exponents[m]\n",
    "            r3 = u_m\n",
    "\n",
    "            ci_random.append(r0)\n",
    "            ci_random_bases.append(r1)\n",
    "            ci_random_exponents.append(r2)\n",
    "            u_set.append(r3)\n",
    "\n",
    "    return c_set, c_set_bases, c_set_exponents, c_set_indexes, bi_set,  bi_random, ci_random, ci_random_bases, \\\n",
    "ci_random_exponents, u_set"
   ]
  },
  {
   "cell_type": "markdown",
   "metadata": {
    "id": "PNZ6HpwtOdjK"
   },
   "source": [
    "#### (c) indexT\n",
    "\n",
    "This function will be used after the random $b_i$ are chosen (and all their corresponding values are computed e.g. $c_i$).  \n",
    "It creates the index $T$ as defined in the algorithm."
   ]
  },
  {
   "cell_type": "code",
   "execution_count": 9,
   "metadata": {
    "executionInfo": {
     "elapsed": 12,
     "status": "ok",
     "timestamp": 1671485110359,
     "user": {
      "displayName": "Florias Papadopoulos",
      "userId": "02493792366473576187"
     },
     "user_tz": -120
    },
    "id": "SiTDk65pBAV_"
   },
   "outputs": [],
   "source": [
    "def indexT(n,k_upper,j_upper,y,a,b,c,d,e):\n",
    "    u_set = e\n",
    "\n",
    "    base = base_numbers(y)\n",
    "    ut_sum = np.zeros(len(base))\n",
    "\n",
    "    while True:\n",
    "        random_T_set =[]\n",
    "        index_of_T = []\n",
    "        x = random.randrange(math.floor(len(u_set)/2),len(u_set))\n",
    "        v = 0\n",
    "        while v < x:\n",
    "            y = random.randint(0,x)\n",
    "            random_T_set.append(u_set[y])\n",
    "            index_of_T.append(y)\n",
    "            v = v + 1\n",
    "        random_T_set_SET =  np.unique(np.array(random_T_set), axis=0)\n",
    "        index_of_T_SET = np.unique(np.array(index_of_T))\n",
    "        for i in range(0,len(random_T_set_SET)):\n",
    "            ut_sum = np.add(random_T_set_SET[i],ut_sum)\n",
    "      \n",
    "        statements = []\n",
    "        for j in ut_sum:\n",
    "            statements.append((j % 2 == 0))\n",
    "      \n",
    "        if all(statements) == True:\n",
    "            return index_of_T_SET"
   ]
  },
  {
   "cell_type": "markdown",
   "metadata": {
    "id": "PNZ6HpwtOdjK"
   },
   "source": [
    "#### (d) b_final\n",
    "\n",
    "This function computes the value $b$, mentioned in the 5th step of the algorithm."
   ]
  },
  {
   "cell_type": "code",
   "execution_count": 10,
   "metadata": {
    "executionInfo": {
     "elapsed": 12,
     "status": "ok",
     "timestamp": 1671485110359,
     "user": {
      "displayName": "Florias Papadopoulos",
      "userId": "02493792366473576187"
     },
     "user_tz": -120
    },
    "id": "SiTDk65pBAV_"
   },
   "outputs": [],
   "source": [
    "def b_final(n,k_upper,j_upper,y,a,b,c,d,e,f):\n",
    "\n",
    "    b_final = 1\n",
    "    for i in f:\n",
    "        b_final = a[i]*b_final\n",
    "\n",
    "    return b_final"
   ]
  },
  {
   "cell_type": "markdown",
   "metadata": {
    "id": "PNZ6HpwtOdjK"
   },
   "source": [
    "#### (e) gamma_j\n",
    "\n",
    "This function computes the values $\\gamma_j$ ($j=1, \\dots, \\pi(y)$), also defined in the 5th step."
   ]
  },
  {
   "cell_type": "code",
   "execution_count": 11,
   "metadata": {
    "executionInfo": {
     "elapsed": 12,
     "status": "ok",
     "timestamp": 1671485110359,
     "user": {
      "displayName": "Florias Papadopoulos",
      "userId": "02493792366473576187"
     },
     "user_tz": -120
    },
    "id": "SiTDk65pBAV_"
   },
   "outputs": [],
   "source": [
    "def gamma_j(n,k_upper,j_upper,y,a,b,c,d,e,f):\n",
    "    base = base_numbers(y)\n",
    "    l = []\n",
    "    a_i= []\n",
    "\n",
    "    for i in range(0,len(f)):\n",
    "        r = f[i]\n",
    "        w = d[r]\n",
    "\n",
    "        while len(w) < len(base):\n",
    "            w.append(0)\n",
    "        a_i.append(w)\n",
    "\n",
    "    lists_of_lists = [[1, 2, 3], [4, 5, 6]]\n",
    "    gamma_j = [1/2*sum(x) for x in zip(*a_i)]\n",
    "    return gamma_j"
   ]
  },
  {
   "cell_type": "markdown",
   "metadata": {
    "id": "PNZ6HpwtOdjK"
   },
   "source": [
    "#### (f) c_final\n",
    "\n",
    "This final function gives us the value $c$ as output, also defined in the 5th step."
   ]
  },
  {
   "cell_type": "code",
   "execution_count": 12,
   "metadata": {
    "executionInfo": {
     "elapsed": 12,
     "status": "ok",
     "timestamp": 1671485110359,
     "user": {
      "displayName": "Florias Papadopoulos",
      "userId": "02493792366473576187"
     },
     "user_tz": -120
    },
    "id": "SiTDk65pBAV_"
   },
   "outputs": [],
   "source": [
    "def c_final(n,k_upper,j_upper,y,a,b,c,d,e,f,h):\n",
    "    base = base_numbers(y)\n",
    "    c_final = 1\n",
    "    for p_index in range(1,len(base)):\n",
    "        p_w = base[p_index]\n",
    "        g_j = h[p_index-1]\n",
    "        c_final = c_final * (p_w ** g_j)\n",
    "    return (c_final)"
   ]
  },
  {
   "cell_type": "markdown",
   "metadata": {},
   "source": [
    "## Solving the problem\n",
    "\n",
    "We now create a script that takes as input $n, k_{upper}, j_{upper} \\text{ and } y$ and returns a correct iteration of Dixon's algorithm.  \n",
    "In the script below, $n=902831$ and the other inputs are chosen so that the algorithm runs smoothly.  \n",
    "However, due to the probabilistic nature of the algorithm, it takes on average 10-15 minutes to finish for a number the size of $902831$. "
   ]
  },
  {
   "cell_type": "code",
   "execution_count": 15,
   "metadata": {
    "colab": {
     "base_uri": "https://localhost:8080/",
     "height": 1000
    },
    "executionInfo": {
     "elapsed": 481004,
     "status": "error",
     "timestamp": 1671485891654,
     "user": {
      "displayName": "Florias Papadopoulos",
      "userId": "02493792366473576187"
     },
     "user_tz": -120
    },
    "id": "L5OVFqRN9b5b",
    "outputId": "295d7f4b-0e94-446b-e845-0be53f40c12a",
    "scrolled": false
   },
   "outputs": [
    {
     "name": "stdout",
     "output_type": "stream",
     "text": [
      "This number is a non-trivial factor of 902831 : 823\n",
      "The number was found using algorithm of Dixon, using the following:\n",
      "\n",
      "In step 1, we chose y=30 which gave us the base B={p_1,...,p_π(y)}: [-1, 2, 3, 5, 7, 11, 13, 17, 19, 23, 29]\n",
      "\n",
      "In step 2, we had to find B-adapted numbers from the set {2,...,n-1}.\n",
      "To make the search easier, a common hint is to look for these numbers in a set of the form { floor{sqrt{kn}}+j | k=1,2,...,K and j=1,2,...,J }\n",
      "So, using K_upper=30 and J_upper=30 we got the set: [4142, 2125, 4250, 4361, 4374, 2331, 2344, 2515, 4662, 4663, 2689, 2693, 4941, 4950, 5030, 3005, 3010, 5122, 3154, 3294, 3300, 3442, 3557, 3577, 3578, 3681, 1647, 1650, 3922, 4040]\n",
      "From this set, we chose randomly |B|+1 of them and defined them as b_i, giving us the bi_set:  [4941, 4662, 5122, 3557, 3300, 5030, 3154, 3681, 2125, 2693, 3922, 4142]\n",
      "\n",
      "In step 3, first we defined the numbers c_i = b_i^2 (modn), which gave us the set: [37044, 66300, 52785, 12615, 56028, 21632, 16575, 7296, 1470, 29601, 33957, 2375]\n",
      "Moreover, each c_i has a unique analysis of the form  (-1)^0 * p_1^a_i1 * ... * p_π(y)^a_iπ(y)  , from which we need the exponents and their respective bases.\n",
      "So, we made a list of the exponents of each c_i: [[2, 3, 3, 0, 0, 0, 0, 0, 0, 0, 0], [2, 1, 2, 1, 1, 0, 0, 0, 0, 0, 0], [3, 1, 1, 1, 0, 0, 0, 0, 0, 0, 0], [1, 1, 2, 0, 0, 0, 0, 0, 0, 0, 0], [2, 1, 1, 1, 1, 0, 0, 0, 0, 0, 0], [7, 2, 0, 0, 0, 0, 0, 0, 0, 0, 0], [1, 2, 1, 1, 0, 0, 0, 0, 0, 0, 0], [7, 1, 1, 0, 0, 0, 0, 0, 0, 0, 0], [1, 1, 1, 2, 0, 0, 0, 0, 0, 0, 0], [2, 1, 1, 1, 0, 0, 0, 0, 0, 0, 0], [2, 3, 1, 0, 0, 0, 0, 0, 0, 0, 0], [3, 1, 0, 0, 0, 0, 0, 0, 0, 0, 0]]\n",
      "and a list of the respective bases for these exponents (all others have exponent 0): [[2, 3, 7], [2, 3, 5, 13, 17], [3, 5, 17, 23], [3, 5, 29], [2, 3, 7, 23, 29], [2, 13], [3, 5, 13, 17], [2, 3, 19], [2, 3, 5, 7], [3, 11, 13, 23], [3, 7, 11], [5, 19]]\n",
      "From them we created the set of all vectors u_i=(u_i0, ... ,u_iπ(y)), which is: [[0, 0, 1, 0, 1, 0, 0, 0, 0, 0, 0], [0, 0, 1, 0, 0, 0, 1, 1, 0, 0, 0], [0, 0, 1, 1, 0, 0, 0, 1, 0, 1, 0], [0, 0, 1, 1, 0, 0, 0, 0, 0, 0, 0], [0, 0, 1, 0, 1, 0, 0, 0, 0, 1, 1], [0, 1, 0, 0, 0, 0, 0, 0, 0, 0, 0], [0, 0, 1, 0, 0, 0, 1, 1, 0, 0, 0], [0, 1, 1, 0, 0, 0, 0, 0, 1, 0, 0], [0, 1, 1, 1, 0, 0, 0, 0, 0, 0, 0], [0, 0, 0, 0, 0, 1, 1, 0, 0, 1, 0], [0, 0, 0, 0, 1, 1, 0, 0, 0, 0, 0], [0, 0, 0, 1, 0, 0, 0, 0, 1, 0, 0]]\n",
      "\n",
      "In step 4, we found the set of indexes T= [ 0  1  3  4  6  8  9 10 11]\n",
      "\n",
      "In step 5, we found b= 79279260194703016805801459400000\n",
      "and the set of γ_j [8.0, 7.0, 6.0, 3.0, 1.0, 0.0, 0.0, 0.0, 0.0, 0.0, 0.0]\n",
      "which gave us c= 33006204000000.0\n",
      "\n",
      "In step 6, we verified that n|b+c and n|b-c are not True and calculated the gcd(b+c,n)=823 which is a non-trivial factor of n=902831\n"
     ]
    }
   ],
   "source": [
    "#input\n",
    "n, k_upper, j_upper, y = 902831, 30, 30, 30\n",
    "#input \n",
    "\n",
    "base = base_numbers(y)\n",
    "x = True\n",
    "while x == True:\n",
    "    (c_set, c_set_bases, c_set_exponents, c_set_indexes, bi_set, bi_random, ci_random, ci_random_bases, ci_random_exponents, \\\n",
    "     u_set) = basics(n,k_upper,j_upper,y)\n",
    "    p0=0\n",
    "    counter = 0\n",
    "    while counter <1000:\n",
    "        p0 = p0 + 1\n",
    "        counter = counter + 1\n",
    "        #print(\"This is try number \" + str(p0) + \" of this run.\")\n",
    "        f = indexT(n,k_upper,j_upper,y,bi_random, ci_random, ci_random_bases, ci_random_exponents, u_set)\n",
    "        g = b_final(n,k_upper,j_upper,y,bi_random, ci_random, ci_random_bases, ci_random_exponents, u_set,f)\n",
    "        h = gamma_j(n,k_upper,j_upper,y,bi_random, ci_random, ci_random_bases, ci_random_exponents, u_set,f)\n",
    "        i = c_final(n,k_upper,j_upper,y,bi_random, ci_random, ci_random_bases, ci_random_exponents, u_set,f,h)\n",
    "        #print(\"T=\", f)\n",
    "        #print(\"b=\", g)\n",
    "        #print(\"set of γ_j:\", h)\n",
    "        #print(\"c=\", i)\n",
    "\n",
    "        x1 = (g - math.floor(i) % n != 0)\n",
    "        x2 = (g + math.floor(i) % n != 0)\n",
    "        n1 = math.gcd(g + math.floor(i),n)\n",
    "        if x1 != True or x2 != True or i - math.floor(i) > 0 or n1 == 1:\n",
    "            #print(\"No proper result achieved - Will try again.\")\n",
    "            #print(\"\")\n",
    "            continue\n",
    "        else:\n",
    "            #print(\"\")\n",
    "            #print(\"\")\n",
    "            #print(\"\")\n",
    "            #print(\"\")\n",
    "            print(\"This number is a non-trivial factor of \" + str(n) + \" : \" + str(n1))\n",
    "            print(\"The number was found using algorithm of Dixon, using the following:\")\n",
    "            print(\"\")\n",
    "            print(\"In step 1, we chose y=\" + str(y) + \" which gave us the base B={p_1,...,p_π(y)}:\", base)\n",
    "            print(\"\")\n",
    "            print(\"In step 2, we had to find B-adapted numbers from the set {2,...,n-1}.\")\n",
    "            print(\"To make the search easier, a common hint is to look for these numbers in a set of the form { floor{sqrt{kn}}+j | k=1,2,...,K and j=1,2,...,J }\")\n",
    "            print(\"So, using K_upper=\" + str(k_upper) + \" and J_upper=\" + str(j_upper) + \" we got the set:\", bi_set)\n",
    "            print(\"From this set, we chose randomly |B|+1 of them and defined them as b_i, giving us the bi_set: \", bi_random)\n",
    "            print(\"\")\n",
    "            print(\"In step 3, first we defined the numbers c_i = b_i^2 (modn), which gave us the set:\", ci_random)\n",
    "            print(\"Moreover, each c_i has a unique analysis of the form  (-1)^0 * p_1^a_i1 * ... * p_π(y)^a_iπ(y)  , from which we need the exponents and their respective bases.\")\n",
    "            print(\"So, we made a list of the exponents of each c_i:\", ci_random_exponents)\n",
    "            print(\"and a list of the respective bases for these exponents (all others have exponent 0):\", ci_random_bases)\n",
    "            print(\"From them we created the set of all vectors u_i=(u_i0, ... ,u_iπ(y)), which is:\", u_set)\n",
    "            print(\"\")\n",
    "            print(\"In step 4, we found the set of indexes T=\", f)\n",
    "            print(\"\")\n",
    "            print(\"In step 5, we found b=\", g)\n",
    "            print(\"and the set of γ_j\", h)\n",
    "            print(\"which gave us c=\", i)\n",
    "            print(\"\")\n",
    "            print(\"In step 6, we verified that n|b+c and n|b-c are not True and calculated the gcd(b+c,n)=\" + str(n1) + \" which is a non-trivial factor of n=\" + str(n))\n",
    "            x = False #to get out of the outside loop\n",
    "            counter = 1001 #to get out of the inside loop"
   ]
  }
 ],
 "metadata": {
  "colab": {
   "authorship_tag": "ABX9TyNp8IKUawUxR6KQ9QONsX4c",
   "provenance": []
  },
  "kernelspec": {
   "display_name": "Python 3 (ipykernel)",
   "language": "python",
   "name": "python3"
  },
  "language_info": {
   "codemirror_mode": {
    "name": "ipython",
    "version": 3
   },
   "file_extension": ".py",
   "mimetype": "text/x-python",
   "name": "python",
   "nbconvert_exporter": "python",
   "pygments_lexer": "ipython3",
   "version": "3.11.1"
  },
  "toc": {
   "base_numbering": 1,
   "nav_menu": {},
   "number_sections": true,
   "sideBar": true,
   "skip_h1_title": true,
   "title_cell": "Table of Contents",
   "title_sidebar": "Contents",
   "toc_cell": false,
   "toc_position": {},
   "toc_section_display": true,
   "toc_window_display": false
  }
 },
 "nbformat": 4,
 "nbformat_minor": 1
}
