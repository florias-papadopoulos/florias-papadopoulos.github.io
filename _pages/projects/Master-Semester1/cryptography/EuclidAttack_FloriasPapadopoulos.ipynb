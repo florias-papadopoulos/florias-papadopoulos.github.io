{
 "cells": [
  {
   "cell_type": "markdown",
   "id": "21933c57",
   "metadata": {},
   "source": [
    "# Euclidean Attack on RSA\n",
    "\n",
    "This program was made for an assignment of the class ”Cryptography” of my master’s program considering the study of the Euclidean Attack on RSA, as described on \"An Attack on Small Private Keys of RSA Based on Euclidean Algorithm\" of D. Poulakis, which can be found [here](https://eprint.iacr.org/2019/283).\n",
    "\n",
    "Although more theoretical analysis has been done on another file, our main goal here is to create a program that can emulate the \"EUCLID-ATTACK\" algorithm for the factorization of n, proposed in the same paper.\n",
    "\n",
    "<u>**EUCLID-ATTACK**</u>  \n",
    "$\\cdot$ Input: An RSA public key $(n,e)$ with $e > n \\, / \\, c$  \n",
    "$\\cdot$ Output: The primes $p$ and $q$ (or FAIL)\n",
    "1. Compute $a=(n+1) \\, mod \\, e$\n",
    "2. Using the extended Euclidean algorithm for $e$ and $a$, compute the biggest remainder $r_j$ among them which are $<e^{3/4}$,  \n",
    "   as well as the associated integers $s_j, t_j$ such that $s_je+at_j=r_j$.\n",
    "3. Compute $\\mu_j = gcd(t_j,r_j)$ and next $t'_j=t_j \\, / \\, \\mu_j$.\n",
    "4. Compute $\\beta_1 = (a+|t'_j|^{-1}) \\, mod \\, e$ and next the solutions $u_1$ and $v_1$ of equation $x^2-\\beta_1x+n=0$.  \n",
    "   If $u_1$ and $v_1$ are positive integers, then output $(u_1, v_1)$. Otherwise, go to the next step.\n",
    "5. Compute $\\beta_2 = (a+(e-|t'_j|)^{-1}) \\, mod \\, e$ and next the solutions $u_2$ and $v_2$ of equation $x^2-\\beta_2x+n=0$.  \n",
    "   If $u_2$ and $v_2$ are positive integers, then output $(u_2, v_2)$. Otherwise, output FAIL.\n",
    "\n",
    "##### Notes:\n",
    "1. One change that we will make to the algorithm in our implementation is that the output will be more than the end results. We would also like to compute the inbetween values used. This is why we will compute both $(u_1, v_1)$ and $(u_2, v2)$, even if $(u_1, v_1)$ is already the right answer.  \n",
    "2. Due to some coding issues concerning the nature of the solutions $(u_1, v_1)$ and $(u_2, v2)$ of the above quadratic equations for large numbers, small changes to the algorithm had to be made. More precisely, the validation process to see if the solutions are indeed the primes $p$ and $q$ will now be a check to see if $int(u_1)\\cdot int(v_1)=n$ or $int(u_2) \\cdot int(v_2)=n$ respectively, where $int()$ is a python function used to convert a specified value (any number or string) into an integer object. Hence, $(int(u_1), int(v_1))$ or $(int(u_2),int(v_2))$ will be output respectively in each case.\n",
    "\n",
    "Author: Florias Papadopoulos"
   ]
  },
  {
   "cell_type": "markdown",
   "id": "211bb56d",
   "metadata": {
    "toc": true
   },
   "source": [
    "<h1>Table of Contents<span class=\"tocSkip\"></span></h1>\n",
    "<div class=\"toc\"><ul class=\"toc-item\"><li><span><a href=\"#Importing-modules\" data-toc-modified-id=\"Importing-modules-1\"><span class=\"toc-item-num\">1&nbsp;&nbsp;</span>Importing modules</a></span></li><li><span><a href=\"#Defining-the-functions\" data-toc-modified-id=\"Defining-the-functions-2\"><span class=\"toc-item-num\">2&nbsp;&nbsp;</span>Defining the functions</a></span></li><li><span><a href=\"#Solving-the-problem\" data-toc-modified-id=\"Solving-the-problem-3\"><span class=\"toc-item-num\">3&nbsp;&nbsp;</span>Solving the problem</a></span></li></ul></div>"
   ]
  },
  {
   "cell_type": "markdown",
   "id": "39bf5f33",
   "metadata": {
    "id": "PNZ6HpwtOdjK"
   },
   "source": [
    "## Importing modules\n",
    "\n",
    "We start by importing the modules that we will use"
   ]
  },
  {
   "cell_type": "code",
   "execution_count": 1,
   "id": "ed3648eb",
   "metadata": {},
   "outputs": [],
   "source": [
    "import math\n",
    "from sympy import solve, N\n",
    "from sympy.abc import x"
   ]
  },
  {
   "cell_type": "markdown",
   "id": "795c6cc1",
   "metadata": {},
   "source": [
    "If one or more modules are missing you can just type the code below in order to install a pip package in the current Jupyter kernel. For example, if SymPy is missing, then we can use"
   ]
  },
  {
   "cell_type": "code",
   "execution_count": 2,
   "id": "0c34cb30",
   "metadata": {},
   "outputs": [
    {
     "name": "stdout",
     "output_type": "stream",
     "text": [
      "Requirement already satisfied: sympy in c:\\users\\hp\\appdata\\local\\programs\\python\\python311\\lib\\site-packages (1.11.1)\n",
      "Requirement already satisfied: mpmath>=0.19 in c:\\users\\hp\\appdata\\local\\programs\\python\\python311\\lib\\site-packages (from sympy) (1.2.1)\n"
     ]
    },
    {
     "name": "stderr",
     "output_type": "stream",
     "text": [
      "\n",
      "[notice] A new release of pip available: 22.3.1 -> 23.0\n",
      "[notice] To update, run: C:\\Users\\HP\\AppData\\Local\\Programs\\Python\\Python311\\python.exe -m pip install --upgrade pip\n"
     ]
    }
   ],
   "source": [
    "import sys\n",
    "!{sys.executable} -m pip install sympy"
   ]
  },
  {
   "cell_type": "markdown",
   "id": "58bc5a88",
   "metadata": {
    "id": "PNZ6HpwtOdjK"
   },
   "source": [
    "## Defining the functions"
   ]
  },
  {
   "cell_type": "markdown",
   "id": "7f0af29d",
   "metadata": {
    "id": "PNZ6HpwtOdjK"
   },
   "source": [
    "#### (a) modifiedExtendedEuclid\n",
    "\n",
    "The first function that we will need is one that returns the results that we need in the 2nd step of the algorithm. More specifically, by inputting $(e, e, a)$ to the function below, the extended Euclidean algorithm for $e$ and $a$ will be performed. Moreover, the biggest remainder $r_j$ among them which are $<e^{3/4}$ will be computed, along with the integers $s_j, t_j$. All those will be necessary for the next, main function."
   ]
  },
  {
   "cell_type": "code",
   "execution_count": 3,
   "id": "64026209",
   "metadata": {},
   "outputs": [],
   "source": [
    "def modifiedExtendedEuclid(e, x, y):\n",
    "    #initializing\n",
    "    remainders_list = [x,y]\n",
    "    wantedRemainders_list = []\n",
    "\n",
    "    s0, s1 = 1, 0\n",
    "    t0, t1 = 0, 1\n",
    "    s_list = [s0, s1]\n",
    "    t_list = [t0, t1]\n",
    "    \n",
    "    #making sure that x>=y\n",
    "    if x < y:\n",
    "        return modifiedExtendedEuclid(y, x)\n",
    "\n",
    "    #main_loop\n",
    "    i = 0\n",
    "    while y != 0:\n",
    "        i = i + 1\n",
    "        q_iplus1 = x//y\n",
    "        s_iplus1 = s_list[i-1] - s_list[i]*q_iplus1\n",
    "        t_iplus1 = t_list[i-1] - t_list[i]*q_iplus1\n",
    "        #print(i)\n",
    "        #print('%s = %s * %s + %s' % (x, q_iplus1, y, x % y))\n",
    "        #print('%s = %s - %s * %s' % (s_iplus1, s_list[i-1], s_list[i], q_iplus1))\n",
    "        #print('%s = %s - %s * %s' % (t_iplus1, t_list[i-1], t_list[i], q_iplus1))\n",
    "        \n",
    "        s_list.append(s_iplus1)\n",
    "        t_list.append(t_iplus1)\n",
    "        remainders_list.append(x % y)\n",
    "        (x, y) = (y, x % y)\n",
    "\n",
    "    gcd = x\n",
    "\n",
    "    #remove element from run where \n",
    "    s_list.pop()\n",
    "    t_list.pop()\n",
    "    remainders_list.pop()\n",
    "\n",
    "    for remainder in remainders_list:\n",
    "        if remainder < e**(3/4):\n",
    "            wantedRemainders_list.append(remainder)\n",
    "\n",
    "    if bool(wantedRemainders_list) == False:\n",
    "        return \"Found no remainders under e^(3/4).\"\n",
    "    else:\n",
    "        r_j = max(wantedRemainders_list)\n",
    "        j = remainders_list.index(r_j) \n",
    "        s_j = s_list[j]\n",
    "        t_j = t_list[j]\n",
    "    \n",
    "    return remainders_list, s_list, t_list, gcd, j, r_j, s_j, t_j"
   ]
  },
  {
   "cell_type": "markdown",
   "id": "fa09ccf3",
   "metadata": {
    "id": "PNZ6HpwtOdjK"
   },
   "source": [
    "#### (a) modEuclidAttack\n",
    "\n",
    "This is the main function that carries out the EUCLID-ATTACK algorithm, using the previous function in the 2nd step. As mentioned before, only the RSA modulus $n$ and the derived $e$ need to be inputted and the function will return all inbetween results, not only the primes $p$ and $q$.\n",
    "\n",
    "##### Notes. \n",
    "1. Due to a problem in naming variables, $t'_j$ is denoted as \"clean_t_j\".\n",
    "2. Although everything else is relatively clear, we note that the solution of a quadratic equation with large coefficients proved to be a bigger problem than expected. Classical self-made codes could not give an accurate enough result for the validation, so the functions \"solve()\" and \"N()\" from SymPy were used. More precisely, \"N()\" was used with the option 100 after solve, which means that the numerical evaluation of the result of solve is performed to an accuracy of 100 decimal digits, in order to make sure that all digits will be intact in the procedures. If there is a problem with the algorithm, one should first try to upper this option and then try other changes."
   ]
  },
  {
   "cell_type": "code",
   "execution_count": 4,
   "id": "ec88017a",
   "metadata": {},
   "outputs": [],
   "source": [
    "def modEuclidAttack(n,e):\n",
    "    \n",
    "    #step1\n",
    "    a = (n+1) % e\n",
    "\n",
    "    #step2\n",
    "    remainders_list, s_list, t_list, gcd, j, r_j, s_j, t_j  = modifiedExtendedEuclid(e, e, a)\n",
    "\n",
    "    #step3 \n",
    "    mu_j = math.gcd(t_j,r_j)\n",
    "    clean_t_j = t_j // mu_j\n",
    "\n",
    "    #step4\n",
    "    inv1 = pow(clean_t_j,-1,e)\n",
    "    b1 = (a+inv1) % e\n",
    "\n",
    "    f1 = x**2 - b1*x + n\n",
    "    f1_roots = solve(f1, x)\n",
    "    u1_exact = N(f1_roots[0],100)\n",
    "    v1_exact = N(f1_roots[1],100)\n",
    "    u1 = N(f1_roots[0])\n",
    "    v1 = N(f1_roots[1])\n",
    "\n",
    "    #step5\n",
    "    inv2 = pow(e-abs(clean_t_j),-1,e)\n",
    "    b2 = (a+inv2) % e\n",
    "\n",
    "    f2 = x**2 - b2*x + n\n",
    "    f2_roots = solve(f2, x)\n",
    "    u2_exact = N(f2_roots[0],100)\n",
    "    v2_exact = N(f2_roots[1],100)\n",
    "    u2 = N(f2_roots[0])\n",
    "    v2 = N(f2_roots[1])\n",
    "\n",
    "    #validation\n",
    "    if int(u1_exact)*int(v1_exact) == n:\n",
    "        solution1 = int(u1_exact)\n",
    "        solution2 = int(v1_exact)\n",
    "    elif int(u2_exact)*int(v2_exact) == n:\n",
    "        solution1 = int(u2_exact)\n",
    "        solution2 = int(v2_exact)\n",
    "    else:\n",
    "        solution1 = \"FAIL\"\n",
    "        solution2 = \"FAIL\"\n",
    "\n",
    "    return a, remainders_list, s_list, t_list, gcd, j, r_j, s_j, t_j, mu_j, clean_t_j, inv1, b1, u1, u1_exact,\\\n",
    "           v1, v1_exact, inv2, b2, u2, u2_exact, v2_exact, v2, solution1, solution2"
   ]
  },
  {
   "cell_type": "markdown",
   "id": "59fd4310",
   "metadata": {},
   "source": [
    "## Solving the problem\n",
    "\n",
    "As an example of use of the main function, we now create a script that takes as input $n$ and $e$ from the public key \n",
    "\n",
    "$$(n,e)=(85080976323951696719635578579671062429, \\, 61100559406251463256709716070302151015)$$ \n",
    "\n",
    "and outputs the process and the final result.  \n",
    "For the validation, we note that the two primes which make up $n$ are $9223372036854777017 \\text{ and } 9224497936761618437$.   \n",
    "Moreover, we have  \n",
    "\n",
    "$$\\phi(n) = (9223372036854777017-1)(9224497936761618437-1) = 85080976323951696701187708606054666976$$\n",
    "\n",
    "and the private key $d$, such that $d \\equiv e^{-1} \\, (mod \\, \\phi(n)$, is  \n",
    "\n",
    "$$d=85080976323951696701187708606050456215$$\n",
    "\n",
    "We note that $2e>n$ and so, $c=2$. Furthermore, we have $k=61100559406251463115431885554434703360$ which gives us $e-k=e-\\frac{(ed-1)}{\\phi(n)}>e^{1/4}/6\\sqrt{2}$ and thus, we see that we have a result even if some conditions are not met. This might be a hint that the bounds mentioned in the theory of the algorithm can be extended further."
   ]
  },
  {
   "cell_type": "code",
   "execution_count": 5,
   "id": "00bf4314",
   "metadata": {},
   "outputs": [
    {
     "name": "stdout",
     "output_type": "stream",
     "text": [
      "EUCLID-ATTACK algorithm is used to factorize n:\n",
      "\n",
      "In step 1, we compute a = (n+1) mod e = 23980416917700233462925862509368911415.\n",
      "In step 2, we use the extended Euclidean algorithm for $e$ and $a$, and calculate the biggest remainder r_j <e^{3/4}.\n",
      "           - r_13 = 55785270375887536485564215 with j = 13\n",
      "           Moreover, we compute its associated integers s_13 and t_13:\n",
      "           - s_13 = -1186820\n",
      "           - t_13 = 3023941\n",
      "In step 3, we compute μ_13 = gcd(t_13,r_13) and next t'_13= t_13/μ_13, where:\n",
      "           - μ_13 = 1\n",
      "           - t'_13 = 3023941\n",
      "In step 4, first we compute β1 = (a+|t'_13|^{-1}) mod e, and next find the roots u1 and v1 of x^2-xβ1+n.\n",
      "           - β1 = 47960833835400466907403855045121427376\n",
      "           - u1 = 1.77396782999949\n",
      "           - int(u1) =1.773967829999494447048988704657479652626631034643991945471243506155632617907731005515961807231068396\n",
      "           - v1 = 4.79608338354005e+37\n",
      "           - int(v1) =47960833835400466907403855045121427374.22603217000050555295101129534252034737336896535600805452875649\n",
      "In step 5, first we compute β2 = (a+(e-|t'_13|)^{-1}) mod e, and next find the roots u2 and v2 of x^2-xβ2+n.\n",
      "           - β2 = 18447869973616395454\n",
      "           - u2 = 9.22337203685478e+18\n",
      "           - int(u2) =9223372036854777017.000000000000000000000000000000000000000000000000000000000000000000000000000000000\n",
      "           - v2 = 9.22449793676162e+18\n",
      "           - int(v2) =9224497936761618437.000000000000000000000000000000000000000000000000000000000000000000000000000000000\n",
      "Finally, we check if int(u1)*int(v1)=n or int(u2)*int(v2)=n (see note 2 from first cell).\n",
      "If none of them are true, then the final output will be fail.\n",
      "\n",
      ">> The primes are 9223372036854777017 and 9224497936761618437.\n"
     ]
    }
   ],
   "source": [
    "#input\n",
    "\n",
    "n = 85080976323951696719635578579671062429\n",
    "e = 61100559406251463256709716070302151015\n",
    "#d= 85080976323951696701187708606050456215 (for size comparison)\n",
    "\n",
    "#input\n",
    "\n",
    "#main function \n",
    "a, remainders_list, s_list, t_list, gcd, j, r_j, s_j, t_j, mu_j, clean_t_j, inv1, b1, u1, u1_exact, v1,\\\n",
    " v1_exact, inv2, b2, u2, u2_exact, v2_exact, v2, solution1, solution2 = modEuclidAttack(n,e)\n",
    "\n",
    "#script\n",
    "print(\"EUCLID-ATTACK algorithm is used to factorize n:\")\n",
    "print(\"\")\n",
    "print(\"In step 1, we compute a = (n+1) mod e = \" + str(a) + \".\")\n",
    "print(\"In step 2, we use the extended Euclidean algorithm for $e$ and $a$, and calculate the biggest remainder r_j <e^{3/4}.\")\n",
    "print(\"           - r_\" + str(j) + \" = \" + str(r_j) + \" with j = \" + str(j))\n",
    "print(\"           Moreover, we compute its associated integers s_\" + str(j) + \" and t_\" + str(j) + \":\")\n",
    "print(\"           - s_\" + str(j) + \" = \" + str(s_j))\n",
    "print(\"           - t_\" + str(j) + \" = \" + str(t_j))\n",
    "print(\"In step 3, we compute μ_\" + str(j) + \" = gcd(t_\" + str(j) + \",r_\" + str(j) + \") and next t'_\" + str(j) + \"= t_\" +\\\n",
    "     str(j) + \"/μ_\" + str(j) + \", where:\")\n",
    "print(\"           - μ_\" + str(j) + \" = \" + str(mu_j))\n",
    "print(\"           - t'_\" + str(j) + \" = \" + str(clean_t_j))\n",
    "print(\"In step 4, first we compute β1 = (a+|t'_\" + str(j) + \"|^{-1}) mod e, and next find the roots u1 and v1 of x^2-xβ1+n.\")\n",
    "print(\"           - β1 = \" + str(b1))\n",
    "print(\"           - u1 = \" + str(u1))\n",
    "print(\"           - int(u1) =\" + str(u1_exact))\n",
    "print(\"           - v1 = \" + str(v1))\n",
    "print(\"           - int(v1) =\" + str(v1_exact))\n",
    "print(\"In step 5, first we compute β2 = (a+(e-|t'_\" + str(j) + \"|)^{-1}) mod e, and next find the roots u2 and v2 of x^2-xβ2+n.\")\n",
    "print(\"           - β2 = \" + str(b2))\n",
    "print(\"           - u2 = \" + str(u2))\n",
    "print(\"           - int(u2) =\" + str(u2_exact))\n",
    "print(\"           - v2 = \" + str(v2))\n",
    "print(\"           - int(v2) =\" + str(v2_exact))\n",
    "print(\"Finally, we check if int(u1)*int(v1)=n or int(u2)*int(v2)=n (see note 2 from first cell).\")\n",
    "print(\"If none of them are true, then the final output will be fail.\")\n",
    "print(\"\")\n",
    "if isinstance(solution1, str) and isinstance(solution2, str):\n",
    "    print(\">> FAIL\")\n",
    "else:\n",
    "    print(\">> The primes are \" + str(solution1) + \" and \" + str(solution2) + \".\")"
   ]
  }
 ],
 "metadata": {
  "kernelspec": {
   "display_name": "Python 3 (ipykernel)",
   "language": "python",
   "name": "python3"
  },
  "language_info": {
   "codemirror_mode": {
    "name": "ipython",
    "version": 3
   },
   "file_extension": ".py",
   "mimetype": "text/x-python",
   "name": "python",
   "nbconvert_exporter": "python",
   "pygments_lexer": "ipython3",
   "version": "3.11.1"
  },
  "toc": {
   "base_numbering": 1,
   "nav_menu": {},
   "number_sections": true,
   "sideBar": true,
   "skip_h1_title": true,
   "title_cell": "Table of Contents",
   "title_sidebar": "Contents",
   "toc_cell": true,
   "toc_position": {},
   "toc_section_display": true,
   "toc_window_display": false
  }
 },
 "nbformat": 4,
 "nbformat_minor": 5
}
