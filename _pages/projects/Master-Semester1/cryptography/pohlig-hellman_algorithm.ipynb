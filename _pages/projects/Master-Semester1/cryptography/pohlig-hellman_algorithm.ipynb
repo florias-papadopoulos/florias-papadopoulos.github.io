{
 "cells": [
  {
   "cell_type": "markdown",
   "metadata": {},
   "source": [
    "# Pohlig-Hellman algorithm for discrete logarithms\n",
    "\n",
    "\n",
    "This program was made for an assignment of the class ”Cryptography” of my master’s program:  \n",
    "\"Use the Pohlig-Hellman algorithm to calculate the discrete logarithm $x$ inside $\\mathbb{Z}_N=\\mathbb{Z}_{1693}$, where $17^x \\equiv 101 \\, mod \\, 1693$.\"\n",
    "\n",
    "<u>**Pohlig-Hellman algorithm**</u>  \n",
    "$\\cdot$ Input: A cyclic group $G=<g>$ with $|G|=n>1$, a prime factorization $n=p_1^{e_1}\\dots p_k^{e_k}$ and $a \\in G$  \n",
    "$\\cdot$ Output: $x=\\log_g a$\n",
    "1. For $i=1, \\dots, k$ we compute the quantities:  \n",
    "$$n_i=n/p_i^{e_i}, \\, g_i = g^{n_i}, \\, a_i=a^{n_i}, \\, \\gamma_i = g_i^{p_i^{e_i-1}}$$\n",
    "\n",
    "2. For $i=1, \\dots, k$ we compute the discrete logarithms:   \n",
    "\\begin{equation*}\n",
    "\\begin{aligned}\n",
    "x_{i0} & =\\log_{\\gamma_i} a_i^{p_i^{e_i-1}} \\\\  \n",
    "x_{ij} & =\\log_{\\gamma_i} \\left( a_ig_i^{-(x_{i0}+x_{i-1}p_i+\\dots+x_{i,j-1}p_i^{e_i-i-j})} \\right)^{p_i^{e_i-1-j}} \\; (j=1,\\dots,e_i-1)\n",
    "\\end{aligned}\n",
    "\\end{equation*}\n",
    "\n",
    "3. For $i=1, \\dots, k$ we calculate the sum:  \n",
    "$$x_i=x_{i0}+x_{i1}p_i + \\dots x_{i,e_i-1}p_i^{e_i-1}$$\n",
    "\n",
    "4. We calculate $x \\in \\mathbb{Z}$ with $0 \\leq x \\leq n-1$ such that:\n",
    "$$x \\equiv x_i \\, (mod \\, p_i^{e_i}) \\; (i=1,\\dots,k)$$\n",
    "\n",
    "5. We extract $x=\\log_g a$.  \n",
    "\n",
    "Author: Florias Papadopoulos"
   ]
  },
  {
   "cell_type": "markdown",
   "metadata": {
    "id": "PNZ6HpwtOdjK"
   },
   "source": [
    "## Importing modules\n",
    "\n",
    "We start by importing the modules that we will use"
   ]
  },
  {
   "cell_type": "code",
   "execution_count": 1,
   "metadata": {
    "executionInfo": {
     "elapsed": 485,
     "status": "ok",
     "timestamp": 1672658356798,
     "user": {
      "displayName": "Florias Papadopoulos",
      "userId": "02493792366473576187"
     },
     "user_tz": -120
    },
    "id": "BLeq0MKCpRD_"
   },
   "outputs": [],
   "source": [
    "import math"
   ]
  },
  {
   "cell_type": "markdown",
   "metadata": {
    "id": "PNZ6HpwtOdjK"
   },
   "source": [
    "## Defining the functions"
   ]
  },
  {
   "cell_type": "markdown",
   "metadata": {},
   "source": [
    "### Starter functions\n",
    "\n",
    "#### (a) shanksAlgorithm\n",
    "\n",
    "We will use our function of Shanks' algorithm to compute the discrete logarithms needed in step 2 of the Pohlig-Hellman algorithm.    \n",
    "\n",
    "As mentioned before, our goal is to find $x=\\log_g a$, given a cyclic group $G=<g>$ with $|G|=n$ and $g^x \\equiv a \\, mod \\, N$.  \n",
    "Therefore, we will create a script that has as input the values $N, n, g, a$ and returns $x$, along with the other values that were computed in each step of the algorithm."
   ]
  },
  {
   "cell_type": "code",
   "execution_count": 2,
   "metadata": {
    "executionInfo": {
     "elapsed": 12,
     "status": "ok",
     "timestamp": 1672658357199,
     "user": {
      "displayName": "Florias Papadopoulos",
      "userId": "02493792366473576187"
     },
     "user_tz": -120
    },
    "id": "EzD5Ry_ppqAQ"
   },
   "outputs": [],
   "source": [
    "import itertools #shanks algorithm needs this module to work\n",
    "\n",
    "#more on Shanks' algorithm can be found on the corresponding .ipynb\n",
    "def shanksAlgorithm(N,n,g,a):\n",
    "\n",
    "    #step1\n",
    "    m = math.floor(math.sqrt(n))+1\n",
    "\n",
    "    #step2\n",
    "    B_list = []\n",
    "\n",
    "    for r in range(0,m):\n",
    "        g_inv = pow(g, -1, N)\n",
    "        agr = a*((g_inv**r) % N) % N\n",
    "        B_list.append(agr)\n",
    "\n",
    "        if agr == 1:\n",
    "            r_end = r\n",
    "            return r_end ,0, 0, 0, 0, m, B_list\n",
    "\n",
    "    #step3\n",
    "    d = (g**m) % N\n",
    "\n",
    "    for q in itertools.count(start=1):\n",
    "        dq = (d**q) % N\n",
    "        if dq in B_list:\n",
    "            r = B_list.index(dq)\n",
    "            x = q*m + r\n",
    "            break\n",
    "  \n",
    "    return x, d, dq, q, r, m, B_list"
   ]
  },
  {
   "cell_type": "markdown",
   "metadata": {},
   "source": [
    "#### (b) chinese_remainder \n",
    "\n",
    "We also need a function that can calculate the $x \\in \\mathbb{Z}$ with $0 \\leq x \\leq n-1$ such that: \n",
    "$\\; \\; x \\equiv x_i \\, (mod \\, p_i^{e_i}) \\; (i=1,\\dots,k)$.\n",
    "\n",
    "Theoretically, this is done using the Chinese Remainder Theorem.  \n",
    "In practise, the function below works with an input of $n_{list}=[n_1, \\dots, n_k]$ and $x_{list}=[x_1,\\dots,x_k]$ when trying to find $x$ such that:  \n",
    "$$x \\equiv x_i \\, (mod \\, n_i) \\; (i=1,\\dots,k)$$"
   ]
  },
  {
   "cell_type": "code",
   "execution_count": 3,
   "metadata": {
    "executionInfo": {
     "elapsed": 12,
     "status": "ok",
     "timestamp": 1672658357200,
     "user": {
      "displayName": "Florias Papadopoulos",
      "userId": "02493792366473576187"
     },
     "user_tz": -120
    },
    "id": "OJ__y5miv7lq"
   },
   "outputs": [],
   "source": [
    "# Python 3.6 - found online\n",
    "from functools import reduce\n",
    "\n",
    "def chinese_remainder(n_list, x_list):\n",
    "    sum = 0\n",
    "    prod = reduce(lambda x_list, b: x_list*b, n_list)\n",
    "    for n_i, x_i in zip(n_list, x_list):\n",
    "        p = prod // n_i\n",
    "        sum += x_i * mul_inv(p, n_i) * p\n",
    "        \n",
    "    return sum % prod\n",
    " \n",
    "def mul_inv(a, b):\n",
    "    b0 = b\n",
    "    x0, x1 = 0, 1\n",
    "    if b == 1: return 1\n",
    "    while a > 1:\n",
    "        q = a // b\n",
    "        a, b = b, a%b\n",
    "        x0, x1 = x1 - q * x0, x0\n",
    "    if x1 < 0: x1 += b0\n",
    "    return x1"
   ]
  },
  {
   "cell_type": "markdown",
   "metadata": {},
   "source": [
    "#### (c) generatePrimeFactors\n",
    "\n",
    "Finally we need a function that can take the number $n$ and calculate its prime factors, along with their exponents.  \n",
    "This function works with an accompanying algorithm (the Sieve of Eratosthenes)."
   ]
  },
  {
   "cell_type": "code",
   "execution_count": 4,
   "metadata": {
    "executionInfo": {
     "elapsed": 12,
     "status": "ok",
     "timestamp": 1672658357201,
     "user": {
      "displayName": "Florias Papadopoulos",
      "userId": "02493792366473576187"
     },
     "user_tz": -120
    },
    "id": "dmxeoIJ7UTVY"
   },
   "outputs": [],
   "source": [
    "#Python3 program to print prime factors and their powers using Sieve Of Eratosthenes (found online, with small changes by me -F)\n",
    "# Using SieveOfEratosthenes to  find smallest prime factor of all the numbers.\n",
    "# For example, if N is 10, s[2] = s[4] = s[6] = s[10] = 2, s[3] = s[9] = 3, s[5] = 5, s[7] = 7\n",
    "\n",
    "def generatePrimeFactors(N):\n",
    "    # s[i] is going to store smallest prime factor of i.\n",
    "    s = [0] * (N+1)\n",
    "    \n",
    "    # Filling values in s[] using the sieve\n",
    "    # Create a boolean array \"prime[0..n]\" and initialize all entries in it as false.\n",
    "    prime = [False] * (N+1)\n",
    "    # Initializing smallest factor equal to 2 for all the even numbers\n",
    "    for i in range(2, N+1, 2):\n",
    "        s[i] = 2\n",
    "    # For odd numbers less than equal to n\n",
    "    for i in range(3, N+1, 2):\n",
    "        if (prime[i] == False):            \n",
    "            # s(i) for a prime is the number itself\n",
    "            s[i] = i\n",
    "            # For all multiples of current prime number\n",
    "            for j in range(i, int(N / i) + 1, 2):\n",
    "                if (prime[i*j] == False):\n",
    "                    prime[i*j] = True\n",
    "                    # i is the smallest prime factor for number \"i*j\".\n",
    "                    s[i * j] = i\n",
    "    \n",
    "    # Current prime factor of N\n",
    "    curr = s[N]   \n",
    "    # Power of current prime factor + allagh dikia mou\n",
    "    cnt = 1\n",
    "    curr_set = []\n",
    "    cnt_set = []\n",
    "    # Printing prime factors and their powers\n",
    "    while (N > 1):\n",
    "        N //= s[N]\n",
    "        # N is now N/s[N]. If new N also has smallest prime factor as curr, increment power\n",
    "        if (curr == s[N]):\n",
    "            cnt += 1\n",
    "            continue\n",
    "        curr_set.append(curr)\n",
    "        cnt_set.append(cnt)\n",
    "        # Update current prime factor as s[N] and initializing count as 1.\n",
    "        curr = s[N]\n",
    "        cnt = 1\n",
    "        \n",
    "    return [curr_set, cnt_set]"
   ]
  },
  {
   "cell_type": "markdown",
   "metadata": {},
   "source": [
    "### Pohlig-Hellman function\n",
    "\n",
    "We will now create our main function based on the Poligh-Hellman algorithm, albeit with a twist.  \n",
    "In particular, as we mentioned before, we will make use of the Shanks algorithm for computing discrete logarithms on the second step of the algorithm.\n",
    "Moreover, our algorithm will not only output the discrete logarithm, but all values that were calculated in each step."
   ]
  },
  {
   "cell_type": "code",
   "execution_count": 5,
   "metadata": {
    "executionInfo": {
     "elapsed": 12,
     "status": "ok",
     "timestamp": 1672658357201,
     "user": {
      "displayName": "Florias Papadopoulos",
      "userId": "02493792366473576187"
     },
     "user_tz": -120
    },
    "id": "jKxYhktbUvLM"
   },
   "outputs": [],
   "source": [
    "def pohligHellmanAlgorithm(N,n,g,a):\n",
    "\n",
    "    #primefactors of n (p_1^e_1 * ... * p_{k}^e_{k}) // attention! python lists start from 0 and not 1\n",
    "    [p_list, e_list] = generatePrimeFactors(n)\n",
    "    k = len(p_list)\n",
    "\n",
    "    #step1\n",
    "    n_list = []\n",
    "    g_list = []\n",
    "    a_list = []\n",
    "    gamma_list = []\n",
    "\n",
    "    for i in range(k):\n",
    "        n_list.append(0)\n",
    "        g_list.append(0)\n",
    "        a_list.append(0)\n",
    "        gamma_list.append(0)\n",
    "\n",
    "    for i in range(k):\n",
    "        n_list[i] = (n // (p_list[i]**e_list[i])) % N\n",
    "        g_list[i] = (g ** n_list[i]) % N\n",
    "        a_list[i] = (a ** n_list[i]) % N\n",
    "        gamma_list[i] = (g_list[i] ** p_list[i] ** (e_list[i] - 1)) % N\n",
    "\n",
    "    #step2\n",
    "\n",
    "    #calculation of g_i^-1\n",
    "    g_inv_list = []\n",
    "    for i in range(k):\n",
    "        g_inv_list.append(0)\n",
    "\n",
    "    for i in range(k):\n",
    "        g_inv_list[i] = pow(g_list[i],-1,N)\n",
    "\n",
    "    x_j_list = []\n",
    "    x_ij_list = []\n",
    "\n",
    "    #for i=1,...,k\n",
    "    for i in range(k):\n",
    "        \n",
    "        #calculation of x_{i0}\n",
    "        x_j_list = []\n",
    "        for j in range(0,e_list[i]):\n",
    "            x_j_list.append(0)\n",
    "\n",
    "        num_0 = (a_list[i] ** p_list[i] ** (e_list[i] - 1)) % N\n",
    "        (discr, d, dq, q, r, m, B_list) = shanksAlgorithm(N,n,gamma_list[i],num_0)\n",
    "        x_j_list[0] = discr\n",
    "            \n",
    "        #calculation of x_{ij} for j=1,...,e_i-1\n",
    "        for j in range(1,e_list[i]):\n",
    "\n",
    "            exp_of_g_i = 0\n",
    "            for j_0 in range(0,j):\n",
    "                add = x_j_list[j_0] * (p_list[i]**j_0)\n",
    "                exp_of_g_i = exp_of_g_i + add\n",
    "\n",
    "            inside_num_j = (g_inv_list[i] ** (exp_of_g_i)) % N\n",
    "            exp_num_j = p_list[i]**(e_list[i]-1-j)\n",
    "            num_j = ((a_list[i] * inside_num_j)**exp_num_j) % N\n",
    "            (discr_j, d, dq, q, r, m, B_list) = shanksAlgorithm(N,n,gamma_list[i],num_j)\n",
    "            x_j_list[j] = discr_j\n",
    "\n",
    "        x_ij_list.append(x_j_list)\n",
    "\n",
    "    #step3 - calculation of x_i\n",
    "    x_list = []\n",
    "    for i in range(k):\n",
    "        x_list.append(0)\n",
    "        for j in range(e_list[i]):\n",
    "            x_list[i] = x_list[i] + (x_ij_list[i][j]*(p_list[i]**j)) % N\n",
    "    \n",
    "    #step4 - computation of x using the Chinese Remainder Theorem\n",
    "    last_list = []\n",
    "    for i in range(k):\n",
    "        last_list.append(p_list[i]**e_list[i])\n",
    "\n",
    "    x = chinese_remainder(last_list, x_list)\n",
    "\n",
    "    return p_list, e_list, n_list, g_list, a_list, gamma_list, x_ij_list, x_list, last_list, x"
   ]
  },
  {
   "cell_type": "markdown",
   "metadata": {},
   "source": [
    "## Solving the problem\n",
    "\n",
    "We create a script that uses the above function to return us a text that elaborates on all the values that were computed in each step of the algorithm.  \n",
    "In our problem $N=1693$, $n=1962$, $g=17$ and $a=101$."
   ]
  },
  {
   "cell_type": "code",
   "execution_count": 6,
   "metadata": {
    "colab": {
     "base_uri": "https://localhost:8080/"
    },
    "executionInfo": {
     "elapsed": 5,
     "status": "ok",
     "timestamp": 1672658429320,
     "user": {
      "displayName": "Florias Papadopoulos",
      "userId": "02493792366473576187"
     },
     "user_tz": -120
    },
    "id": "Uj4amc41yLrq",
    "outputId": "4649cf27-eceb-47d9-9da6-ba45732b92f7"
   },
   "outputs": [
    {
     "name": "stdout",
     "output_type": "stream",
     "text": [
      "We wanted to find the discrete logarithm log_17(101)\n",
      "For this, we used the Pohlig-Hellman Algorithm and did the following:\n",
      "\n",
      "First, we found the prime analysis of n=p-1=p_1**e_1 * ... * p_k**e_k, with the set of p_i being [2, 3, 47] and the set of e_i being [2, 2, 1] .\n",
      "In step 1, we calculated the n_i, g_i, a_i and γ_i (for i=0,...,3), getting:\n",
      "- The set of n_i [423, 188, 36]\n",
      "- The set of g_i [92, 85, 1241]\n",
      "- The set of a_i [1, 1252, 642]\n",
      "- The set of γ_i [1692, 1259, 1241]\n",
      "In step 2, we calculated the discrete logarithms x_ij, getting the x_i lists:\n",
      "[0, 0]\n",
      "[1, 2]\n",
      "[26]\n",
      "In step 3, we calculated the x_i, getting [0, 7, 26]\n",
      "In step 4, we used the chinese remainder theorem to solve the system:\n",
      "x(equiv)0(mod4)\n",
      "x(equiv)7(mod9)\n",
      "x(equiv)26(mod47)\n",
      "and finally got the discrete logarithm x=log_17(101)=1060\n"
     ]
    }
   ],
   "source": [
    "#input\n",
    "N, n, g, a = 1693, 1692, 17, 101 \n",
    "#input \n",
    "\n",
    "(p_list, e_list, n_list, g_list, a_list, gamma_list, x_ij_list, x_list, last_list, x) = pohligHellmanAlgorithm(N,n,g,a)\n",
    "\n",
    "\n",
    "print(\"We wanted to find the discrete logarithm log_\" +str(g) + \"(\" + str(a)+ \")\")\n",
    "print(\"For this, we used the Pohlig-Hellman Algorithm and did the following:\")\n",
    "print(\"\")\n",
    "print(\"First, we found the prime analysis of n=p-1=p_1**e_1 * ... * p_k**e_k, with the set of p_i being\", p_list, \"and the set of e_i being\", e_list,\".\")\n",
    "print(\"In step 1, we calculated the n_i, g_i, a_i and γ_i (for i=0,...,\" + str(len(p_list)) +\"), getting:\")\n",
    "print(\"- The set of n_i\", n_list)\n",
    "print(\"- The set of g_i\", g_list)\n",
    "print(\"- The set of a_i\", a_list)\n",
    "print(\"- The set of γ_i\", gamma_list)\n",
    "print(\"In step 2, we calculated the discrete logarithms x_ij, getting the x_i lists:\")\n",
    "for i in range(len(p_list)):\n",
    "    print(x_ij_list[i])\n",
    "print(\"In step 3, we calculated the x_i, getting\", x_list)\n",
    "print(\"In step 4, we used the chinese remainder theorem to solve the system:\")\n",
    "for i in range(len(p_list)):\n",
    "    print(\"x(equiv)\" + str(x_list[i]) + \"(mod\" + str(last_list[i]) +\")\")\n",
    "print(\"and finally got the discrete logarithm x=log_\" +str(g) + \"(\" + str(a)+ \")=\" + str(x))"
   ]
  }
 ],
 "metadata": {
  "colab": {
   "authorship_tag": "ABX9TyP78T7ByoanEtMOvg37gnXu",
   "provenance": []
  },
  "kernelspec": {
   "display_name": "Python 3 (ipykernel)",
   "language": "python",
   "name": "python3"
  },
  "language_info": {
   "codemirror_mode": {
    "name": "ipython",
    "version": 3
   },
   "file_extension": ".py",
   "mimetype": "text/x-python",
   "name": "python",
   "nbconvert_exporter": "python",
   "pygments_lexer": "ipython3",
   "version": "3.11.1"
  },
  "toc": {
   "base_numbering": 1,
   "nav_menu": {},
   "number_sections": true,
   "sideBar": true,
   "skip_h1_title": true,
   "title_cell": "Table of Contents",
   "title_sidebar": "Contents",
   "toc_cell": false,
   "toc_position": {},
   "toc_section_display": true,
   "toc_window_display": false
  }
 },
 "nbformat": 4,
 "nbformat_minor": 1
}
