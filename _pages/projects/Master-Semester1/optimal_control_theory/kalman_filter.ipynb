{
 "cells": [
  {
   "cell_type": "markdown",
   "metadata": {},
   "source": [
    "# Studying steady speed movement with Kalman filter\n",
    "\n",
    "This program was made for an assignment of the class ”Optimal Control Theory” of my master’s program:  \n",
    "\n",
    "<u>**Exercise.**</u>  \n",
    "Perform a simulation of the movement of an object based on <u>Example 2</u>.  \n",
    "Give estimations of the states for 20* steps.  \n",
    "Assume that $\\Delta t$ is stable, e.g. $\\Delta t = 0.1$, and choose matrices Q and R of the form\n",
    "$Q = \\left( \\begin{array}{cccc}\n",
    "\\frac{q_1(\\Delta t)^3}{3} & 0 & \\frac{q_1(\\Delta t)^2}{2} & 0 \\\\\n",
    "0 & \\frac{q_2(\\Delta t)^3}{3} & 0 & \\frac{q_2(\\Delta t)^2}{2} \\\\\n",
    "\\frac{q_1(\\Delta t)^2}{2} & 0 & q_1 \\Delta t & 0 \\\\\n",
    "0 & \\frac{q_2(\\Delta t)^2}{2} & 0 & q_2 \\Delta t\n",
    "\\end{array} \\right) \\; \\; , \\, R=\\left( \\begin{array}{cc}\n",
    "\\sigma_1^2 & 0 \\\\\n",
    "0 & \\sigma_2^2\n",
    "\\end{array} \\right) $  \n",
    "setting \"proper\" values for the parameters (e.g. $\\sigma_1=\\sigma_2 = 1/2$ and $q_1=q_2=1$).    \n",
    "  \n",
    "**Note.** The program that i made can be used for any $k_{upper}$ number of steps, with $k_{upper}=20$ being the input in the final \"Solving the problem\" section.\n",
    "  \n",
    "Author: Florias Papadopoulos"
   ]
  },
  {
   "cell_type": "markdown",
   "metadata": {},
   "source": [
    "---------------------------------------------------------------------------------------------------\n",
    "\"**Example 2.**    \n",
    "Estimate the position of an object that is moving with steady speed on the plane. We assume that we possess the measurements of the position of the moving object in $k$ equidistant $\\Delta t$ time intervals, for $k=1,2,\\dots$, and that both the movement and the measurements are subject to Gaussian noise.  \n",
    "\n",
    "<u>Solution</u>  \n",
    "Firstly, we assume that the state vector is the 4-dimensional, $x_k = (x_{k,1}, x_{k,2}, x_{k,3}, x_{k,4})^T$, where the first two components, $x_{k,1}$ and $x_{k,2}$ are the position-components (in a 2-dimensional cartesian coordinates system), and the components $x_{k,3}$ and $x_{k,4}$ are the speed-components. Moreover, we assume that the measurement vector is 2-dimensional, $z_k = (z_{k,1}, z_{k,2})^T$, where $z_k$ gives us the observed position of the moving object in step $k$, $k=1,2,\\dots$.  \n",
    "Hence, and considering that the object is moving with steady speed, we will have the following relations: \n",
    "\n",
    "\\begin{equation*}\n",
    "\\begin{aligned}\n",
    "x_{k,1} &= x_{k-1,1} + \\Delta t \\cdot x_{k-1,3} + w_{k-1,1} \\\\\n",
    "x_{k,2} &= x_{k-1,2} + \\Delta t \\cdot x_{k-1,4} + w_{k-1,2} \\\\\n",
    "x_{k,3} &= x_{k-1,3} + w_{k-1,3} \\\\\n",
    "x_{k,4} &= x_{k-1,3} + w_{k-1,4} \\\\\n",
    "z_{k,1} &= x_{k,1} + \\nu_{k,1} \\\\\n",
    "z_{k,2} &= x_{k,2} + \\nu_{k,2} \n",
    "\\end{aligned}\n",
    "\\end{equation*}\n",
    "\n",
    "which can be written in matrix form as\n",
    "\n",
    "\\begin{equation*}\n",
    "\\begin{aligned}\n",
    "x_k & = Ax_{k-1} + w_{k-1} \\\\\n",
    "z_k & = Hx_{k-1} + \\nu_{k-1} \\\\\n",
    "\\end{aligned}\n",
    "\\end{equation*}\n",
    "\n",
    "with $w_k \\sim \\mathcal{N}(0,Q)$ and $\\nu_k \\sim \\mathcal{N}(0,R)$,\n",
    "\n",
    "$A= \\left( \\begin{array}{cccc}\n",
    "1 & 0 & \\Delta t & 0 \\\\\n",
    "0 & 1 & 0 & \\Delta t \\\\\n",
    "0 & 0 & 1 & 0 \\\\\n",
    "0 & 0 & 0 & 1\n",
    "\\end{array} \\right)$ and $H= \\left( \\begin{array}{cccc}\n",
    "0 & 0 & 1 & 0 \\\\\n",
    "0 & 0 & 0 & 1\n",
    "\\end{array} \\right)$, as well as $w_k = (w_{k,1}, w_{k,2}, w_{k,3}, w_{k,4})^T$ and $\\nu_k = (\\nu_{k,1}, \\nu_{k,2})^T$.\n",
    "\n",
    "---------------------------------------------------------------------------------------------------"
   ]
  },
  {
   "cell_type": "markdown",
   "metadata": {
    "id": "PNZ6HpwtOdjK"
   },
   "source": [
    "## Importing modules\n",
    "\n",
    "We start by importing the modules that we will use"
   ]
  },
  {
   "cell_type": "code",
   "execution_count": 1,
   "metadata": {
    "id": "3QLRLKKt6mQY"
   },
   "outputs": [],
   "source": [
    "import random \n",
    "import numpy as np\n",
    "from matplotlib import pyplot as plt"
   ]
  },
  {
   "cell_type": "markdown",
   "metadata": {},
   "source": [
    "If one or more modules are missing you can just type the code below in order to install a pip package in the current Jupyter kernel. For example, if numpy is missing, then we can use"
   ]
  },
  {
   "cell_type": "code",
   "execution_count": 2,
   "metadata": {},
   "outputs": [
    {
     "name": "stdout",
     "output_type": "stream",
     "text": [
      "Requirement already satisfied: numpy in c:\\users\\hp\\appdata\\local\\programs\\python\\python311\\lib\\site-packages (1.24.1)\n"
     ]
    }
   ],
   "source": [
    "import sys\n",
    "!{sys.executable} -m pip install numpy"
   ]
  },
  {
   "cell_type": "markdown",
   "metadata": {},
   "source": [
    "## Defining the main functions"
   ]
  },
  {
   "cell_type": "markdown",
   "metadata": {
    "id": "3QLRLKKt6mQY"
   },
   "source": [
    "We will know define all the functions that give us the necessary values in order to solve our problem, given a certain input."
   ]
  },
  {
   "cell_type": "markdown",
   "metadata": {},
   "source": [
    "#### (a) noise_creator \n",
    "\n",
    "Due to the fact that the measurements $z_k$ are not given, we have to \"create\" them based on the hypotheses.  \n",
    "In order to do that, we first need to get $k_{upper}$ values of the noise vectors $w_k$ and $\\nu_k$, with $w_k \\sim \\mathcal{N}(0,Q)$ and $\\nu_k \\sim \\mathcal{N}(0,R)$.  \n",
    "As input we will have the values $k_{upper}, \\Delta t, q_1, q_2, \\sigma_1, \\sigma_2$ in order to keep the functions general enough for them to work for different values of them."
   ]
  },
  {
   "cell_type": "code",
   "execution_count": 3,
   "metadata": {
    "id": "3QLRLKKt6mQY"
   },
   "outputs": [],
   "source": [
    "def noise_creator(k_upper,DT,q1,q2,sigma1,sigma2):\n",
    "\n",
    "    #creating x_noise \n",
    "    mean_x = [0,0,0,0]\n",
    "    cov_x = [[1/3*q1*(DT**3), 0, 1/2*q1*(DT**2), 0], \n",
    "             [0, 1/3*q2*(DT**3), 0, 1/2*q2*(DT**2)], \n",
    "                      [1/2*q1*(DT**2), 0, q1*DT, 0], \n",
    "                      [0, 1/2*q2*(DT**2), 0, q2*DT]]\n",
    "    x_noise = np.zeros((k_upper, 4))\n",
    "\n",
    "    for i in range(0,k_upper):\n",
    "        x_noise[i] = np.random.multivariate_normal(mean_x, cov_x)\n",
    "\n",
    "    #creating z_noise\n",
    "    mean_z = [0,0]\n",
    "    cov_z = [[sigma1**2, 0], [0, sigma2**2]]\n",
    "    z_noise = np.zeros((k_upper, 2))\n",
    "\n",
    "    for i in range(0,k_upper):\n",
    "        z_noise[i] = np.random.multivariate_normal(mean_z, cov_z)\n",
    "        \n",
    "    return mean_x, cov_x, mean_z, cov_z, x_noise, z_noise"
   ]
  },
  {
   "cell_type": "markdown",
   "metadata": {},
   "source": [
    "#### (b) xz_creator\n",
    "\n",
    "After getting the $w_k$ and $\\nu_k$ vector values for $k=0,\\dots,k_{upper}$, we can now find the appropriate $x_k$ and $z_k$ from \n",
    "\\begin{equation*}\n",
    "\\begin{aligned}\n",
    "x_k & = Ax_{k-1} + w_{k-1} \\\\\n",
    "z_k & = Hx_{k-1} + \\nu_{k-1} \\\\\n",
    "\\end{aligned}\n",
    "\\end{equation*}\n",
    "The only extra input that we need is the starting position and speed which are contained in the starting vector $x_0=(x_{0,1}, x_{0,2}, x_{0,3}, x_{0,4})$."
   ]
  },
  {
   "cell_type": "code",
   "execution_count": 4,
   "metadata": {
    "id": "3QLRLKKt6mQY"
   },
   "outputs": [],
   "source": [
    "def xz_creator(k_upper,DT, q1, q2, sigma1, sigma2, x_0):\n",
    "\n",
    "    #creating noise\n",
    "    mean_x, cov_x, mean_z, cov_z, x_noise, z_noise = noise_creator(k_upper,DT,q1,q2,sigma1,sigma2)\n",
    "    \n",
    "    #starting position and speed\n",
    "    x_01, x_02, x_03, x_04 = x_0[0], x_0[1], x_0[2], x_0[3]\n",
    "    \n",
    "    #creating x\n",
    "    x = np.zeros((k_upper,4))\n",
    "    x[0] = [x_01, x_02, x_03, x_04]\n",
    "\n",
    "    for i in range(0,k_upper-1):\n",
    "        x_i = np.transpose(x[i])\n",
    "        x_noise_i = np.transpose(x_noise[i])\n",
    "        x_iplus1 = np.transpose(np.matmul(A, x_i) + x_noise_i)\n",
    "        x[i+1] = np.transpose(x_iplus1)\n",
    "\n",
    "    #creating z\n",
    "    z = np.zeros((k_upper,2))\n",
    "\n",
    "    for i in range(0,k_upper):\n",
    "        x_i = np.transpose(x[i])\n",
    "        z_noise_i = np.transpose(z_noise[i])\n",
    "        z_i = np.transpose(np.matmul(H, x_i) + z_noise_i)\n",
    "        z[i] = np.transpose(z_i)\n",
    "        \n",
    "    return mean_x, cov_x, mean_z, cov_z, x_noise, z_noise, x, z"
   ]
  },
  {
   "cell_type": "markdown",
   "metadata": {},
   "source": [
    "#### (c) true_measurements\n",
    "\n",
    "We would also like to have the noise-free measurements ${z_{true}}_k$ of the position, given the starting position and thinking that the starting speed $(u_1,u_2)=(x_{0,3} \\; x_{0,4})$ will stay the same throughout the motion. Basically, we can get these values for $k=1, \\dots, k_{upper}$ from \n",
    "$${z_{true}}_k = {z_{true}}_{k-1} + ( \\, x_{0,3} \\; x_{0,4} \\, )^T \\cdot \\Delta t$$"
   ]
  },
  {
   "cell_type": "code",
   "execution_count": 5,
   "metadata": {
    "id": "3QLRLKKt6mQY"
   },
   "outputs": [],
   "source": [
    "def true_measurements(k_upper,DT,x_0):\n",
    "\n",
    "    #starting place and speed\n",
    "    x_01, x_02, x_03, x_04 = x_0[0], x_0[1], x_0[2], x_0[3]\n",
    "\n",
    "    z_true = np.zeros((k_upper,2))\n",
    "    z_true[0] = [x_01, x_02]\n",
    "\n",
    "    speed_true = np.array([x_03, x_04]) #true speed remains the same\n",
    "\n",
    "    for i in range(0,k_upper-1):\n",
    "        z_true[i+1] = z_true[i] + speed_true*DT\n",
    "        \n",
    "    return z_true"
   ]
  },
  {
   "cell_type": "markdown",
   "metadata": {},
   "source": [
    "#### (d) kalman_filter\n",
    "\n",
    "For this function we will need to make two more assumptions about the nature of (i) the starting covariance matrix $P_0(+)$ and (ii) the starting $x_0(+)$ which will have to be inputted to the function. Moreover, we will need the $z_k$ measurements which we can get from the previous functions as well as some other known values. Then, using the 4-step process found below we can calculate all the estimations needed from the Kalman filtering process, for $k=1,\\dots, k_{upper}$:\n",
    "\n",
    "1. $P_k(-) = AP_{k-1}A^T + Q \\; \\; $ and $ \\; \\; \\hat{x}_k(-)=A*\\hat{x}_{k-1}(+)$\n",
    "2. $K_k = P_k(-)H^T(HP_k(-)H^T+R)^{-1}$\n",
    "3. $P_k(+) = (I-K_kH)P_k(-)$\n",
    "4. $\\hat{x}_k(+)=(I-K_kH)\\hat{x}_k(-)+K_kz_k$  \n",
    "\n",
    "Furthermore, we will also make a prediction on the values for the next step, with $k=k_{upper}+1$, using the final known measurement $z_{k_{upper}}$."
   ]
  },
  {
   "cell_type": "code",
   "execution_count": 6,
   "metadata": {
    "id": "3QLRLKKt6mQY"
   },
   "outputs": [],
   "source": [
    "def kalman_filter(k_upper, x_0, P_plus_before, z):\n",
    "       \n",
    "    P_plus_list = []\n",
    "    P_minus_list = []\n",
    "    x_plus_list = [] \n",
    "    x_minus_list = []\n",
    "    K_list = []\n",
    "\n",
    "    #adding the P_0(+) and x_0(+) values to the lists\n",
    "    P_plus_list.append(P_plus_before)\n",
    "\n",
    "    x_plus_list.append(x_0)\n",
    "\n",
    "\n",
    "    for i in range(0,k_upper):\n",
    "\n",
    "        #calculate P_minus\n",
    "        calc11 = np.matmul(A, P_plus_list[i])\n",
    "        calc12 = np.matmul(calc11, np.transpose(A))\n",
    "        P_minus_i = calc12 + cov_x\n",
    "        P_minus_list.append(P_minus_i)\n",
    "\n",
    "        #calculate x_minus\n",
    "        x_minus_i = np.matmul(A, x_plus_list[i])\n",
    "        x_minus_list.append(x_minus_i)\n",
    "\n",
    "        #calculate K\n",
    "        calc21 = np.matmul(P_minus_list[i], np.transpose(H))\n",
    "        calc22 = np.matmul(H, P_minus_list[i])\n",
    "        calc23 = np.matmul(calc22, np.transpose(H))\n",
    "        calc24 = calc23 + cov_z\n",
    "        calc25 = np.linalg.inv(calc24)\n",
    "        K_i = np.matmul(calc21, calc25)\n",
    "        K_list.append(K_i)\n",
    "\n",
    "        #calculate P_plus\n",
    "        I=[[1,0,0,0],\n",
    "         [0,1,0,0],\n",
    "         [0,0,1,0],\n",
    "         [0,0,0,1]]\n",
    "        calc31 = np.matmul(K_list[i], H)\n",
    "        calc32 = I - calc31\n",
    "        P_plus_i = np.matmul(calc32, P_minus_list[i])\n",
    "        P_plus_list.append(P_plus_i)\n",
    "\n",
    "        #calculate x_plus\n",
    "        calc41 = np.matmul(calc32, x_minus_list[i])\n",
    "        calc42 = np.matmul(K_list[i], z[i])\n",
    "        x_plus_i = calc41 + calc42\n",
    "        x_plus_list.append(x_plus_i)\n",
    "\n",
    "    #before using the values\n",
    "    P_plus_list.pop(0) #we remove our first guess for k=0\n",
    "    x_plus_list.pop(0) #we remove our first guess for k=0\n",
    "\n",
    "    #guess on the 21first time\n",
    "\n",
    "    j = k_upper-1\n",
    "    #calculate P_minus\n",
    "    calc21_1 = np.matmul(A, P_plus_list[j])\n",
    "    calc21_2 = np.matmul(calc21_1, np.transpose(A))\n",
    "    P_minus_j = calc21_2 + cov_x\n",
    "    P_minus_list.append(P_minus_j)\n",
    "\n",
    "    #calculate x_minus\n",
    "    x_minus_j = np.matmul(A, x_plus_list[j])\n",
    "    x_minus_list.append(x_minus_j)\n",
    "\n",
    "    x_plus_list.append(x_minus_j)\n",
    "                  \n",
    "    return P_minus_list, P_plus_list, x_minus_list, x_plus_list, K_list"
   ]
  },
  {
   "cell_type": "markdown",
   "metadata": {},
   "source": [
    "## Defining the output functions"
   ]
  },
  {
   "cell_type": "markdown",
   "metadata": {},
   "source": [
    "After creating the main functions in order to get the values that we wanted, we know have to create some functions in order to visualize our results better."
   ]
  },
  {
   "cell_type": "markdown",
   "metadata": {},
   "source": [
    "#### (a) plot_creator\n",
    "\n",
    "Firstly, we create a function that will visualize the measurements without noise ${z_{true}}_k$, the measurements with noise $z_k$ and the filtered results $x_k(+)$ together on the same plot."
   ]
  },
  {
   "cell_type": "code",
   "execution_count": 7,
   "metadata": {
    "colab": {
     "base_uri": "https://localhost:8080/",
     "height": 715
    },
    "id": "Qk-YqTg-asDE",
    "outputId": "ab964c3f-65a6-4764-e16f-c36363e64623"
   },
   "outputs": [],
   "source": [
    "def plot_creator(z, z_true, x_plus_list):\n",
    "\n",
    "    fig = plt.figure(figsize=((10,10)))\n",
    "\n",
    "    z1_true_plot = []\n",
    "    z2_true_plot = []\n",
    "    for z_true_i in z_true:\n",
    "        z1_true_plot.append(z_true_i[0])\n",
    "        z2_true_plot.append(z_true_i[1])\n",
    "\n",
    "    plt.plot(z1_true_plot, z2_true_plot, linewidth = 0.5, **{'color': 'blue', 'marker': 'o'})\n",
    "    \n",
    "    z1_plot = []\n",
    "    z2_plot = []\n",
    "    for z_i in z:\n",
    "        z1_plot.append(z_i[0])\n",
    "        z2_plot.append(z_i[1])\n",
    "\n",
    "    plt.plot(z1_plot, z2_plot, linewidth = 0.5, **{'color': 'red', 'marker': 'o'})\n",
    "\n",
    "    x1_kal_plot = []\n",
    "    x2_kal_plot = []\n",
    "    for x_kal_i in x_plus_list:\n",
    "        x1_kal_plot.append(x_kal_i[0])\n",
    "        x2_kal_plot.append(x_kal_i[1])\n",
    "\n",
    "    plt.plot(x1_kal_plot, x2_kal_plot, linewidth = 0.5, **{'color': 'green', 'marker': 'o'})\n",
    "\n",
    "    plt.grid()\n",
    "    plt.xlabel('z1_true(blue)/z1(red)/x1_kalman(green)-axis')\n",
    "    plt.ylabel('z2_true(blue)/z2(red)/x2_kalman(green)-axis')\n",
    "    plt.axis(\"tight\")\n",
    "    plt.show()"
   ]
  },
  {
   "cell_type": "markdown",
   "metadata": {},
   "source": [
    "#### (b) table_printer\n",
    "\n",
    "Lastly, we need a function that can showcase the most important results that we got from our previous functions in order to compare them. The values compared are evident from the tables*.  \n",
    "\n",
    "*Further optimization needed on their appearance."
   ]
  },
  {
   "cell_type": "code",
   "execution_count": 8,
   "metadata": {
    "colab": {
     "base_uri": "https://localhost:8080/"
    },
    "id": "BEkNWDJjE-9Q",
    "outputId": "2d689505-c6e2-4f9f-dbd1-8729120d8eeb"
   },
   "outputs": [],
   "source": [
    "def table_printer(k_upper, x_noise, z_noise, z_true, x_plus_list, P_minus_list, P_plus_list):\n",
    "    \n",
    "    #table1\n",
    "    print(\"k || x_k,1-noise | x_k,2-noise | x_k,3-noise | x_k,4-noise | z_k,1-noise | z_k,2-noise |\")\n",
    "    print(\"----------------------------------------------------------------------------------------\")\n",
    "\n",
    "    for k in range(0,k_upper):\n",
    "        x1_noise_k = x_noise[k][0]\n",
    "        x2_noise_k = x_noise[k][1]\n",
    "        x3_noise_k = x_noise[k][2]\n",
    "        x4_noise_k = x_noise[k][3]\n",
    "\n",
    "        z1_noise_k = z_noise[k][0]\n",
    "        z2_noise_k = z_noise[k][0]\n",
    "\n",
    "        print(str(k+1) + \" ||   \" + str(float(\"{:.4f}\".format(x1_noise_k))) + \"   ||   \"\\\n",
    "              + str(float(\"{:.4f}\".format(x2_noise_k))) + \"   ||   \" + str(float(\"{:.4f}\".format(x3_noise_k))) + \"   ||   \"\\\n",
    "              + str(float(\"{:.4f}\".format(x4_noise_k))) + \"   ||   \" + str(float(\"{:.4f}\".format(z1_noise_k))) + \"   ||   \"\\\n",
    "              + str(float(\"{:.4f}\".format(z2_noise_k))))\n",
    "        \n",
    "    #----\n",
    "    print(\"\")\n",
    "    print(\"\")\n",
    "    print(\"\")\n",
    "    #----\n",
    "       \n",
    "    #table2 & prediction\n",
    "    print(\"k || z_k,1-true | z_k,2-true | x_k,1 | x_k,2 | p_k,11(-) | p_k,11(+) | p_k,22(-) | p_k,22(+) \")\n",
    "    print(\"---------------------------------------------------------------------------------------------\")\n",
    "\n",
    "    for k in range(0,k_upper):\n",
    "        z1_true_k = z_true[k][0]\n",
    "        z2_true_k = z_true[k][1]\n",
    "\n",
    "        z1_k = z_true[k][0]\n",
    "        z2_k = z_true[k][1]\n",
    "\n",
    "        x1_kal_k = x_plus_list[k][0]\n",
    "        x2_kal_k = x_plus_list[k][1]\n",
    "\n",
    "        p1_minus_var_k = P_minus_list[k][0][0]\n",
    "        p2_minus_var_k = P_minus_list[k][1][1]\n",
    "\n",
    "        p1_plus_var_k = P_plus_list[k][0][0]\n",
    "        p2_plus_var_k = P_plus_list[k][1][1]\n",
    "\n",
    "        print(str(k+1) + \" ||    \" + str(float(\"{:.4f}\".format(z1_true_k))) + \"    ||    \"\\\n",
    "              + str(float(\"{:.4f}\".format(z2_true_k))) + \"    || \" + str(float(\"{:.4f}\".format(x1_kal_k))) + \" || \"\\\n",
    "              + str(float(\"{:.4f}\".format(x2_kal_k))) + \" || \" + str(float(\"{:.4f}\".format(p1_minus_var_k))) + \" || \"\\\n",
    "              + str(float(\"{:.4f}\".format(p1_plus_var_k))) + \" || \" + str(float(\"{:.4f}\".format(p2_minus_var_k))) + \" || \"\\\n",
    "              + str(float(\"{:.4f}\".format(p2_plus_var_k))))\n",
    "\n",
    "    x1_kal_k_upperplus1 = x_plus_list[k_upper][0]\n",
    "    x2_kal_k_upperplus1 = x_plus_list[k_upper][1]\n",
    "\n",
    "    print(str(k_upper+1) + \" ||     \" + \"    \" + \"     ||   \" + \"    \" + \"     || \"\\\n",
    "          + str(float(\"{:.4f}\".format(x1_kal_k_upperplus1))) + \" || \" + str(float(\"{:.4f}\".format(x2_kal_k_upperplus1))))\n",
    "    \n",
    "    #----\n",
    "    print(\"\")\n",
    "    print(\"\")\n",
    "    print(\"\")\n",
    "    #----\n",
    "    \n",
    "    #table 3 & prediction\n",
    "    print(\"k || u_1 | u_2 | x_k,3 | x_k,4 | p_k,33(-) | p_k,33(+) | p_k,44(-) | p_k,44(+) \")\n",
    "    print(\"-------------------------------------------------------------------------------\")\n",
    "    \n",
    "    for k in range(0,k_upper):\n",
    "\n",
    "        x3_kal_k = x_plus_list[k][2]\n",
    "        x4_kal_k = x_plus_list[k][3]\n",
    "\n",
    "        x3_kal_21 = x_plus_list[20][2]\n",
    "        x4_kal_21 = x_plus_list[20][3]\n",
    "\n",
    "        p3_minus_var_k = P_minus_list[k][2][2]\n",
    "        p4_minus_var_k = P_minus_list[k][3][3]\n",
    "\n",
    "        p3_plus_var_k = P_plus_list[k][2][2]\n",
    "        p4_plus_var_k = P_plus_list[k][3][3]\n",
    "\n",
    "\n",
    "        print(str(k+1) + \" ||   \" + str(float(\"{:.4f}\".format(x_03))) + \"   || \" + str(float(\"{:.4f}\".format(x_04)))\\\n",
    "              + \"   || \" + str(float(\"{:.4f}\".format(x3_kal_k))) + \" || \" + str(float(\"{:.4f}\".format(x4_kal_k)))\\\n",
    "              + \" || \" + str(float(\"{:.4f}\".format(p3_minus_var_k))) + \" || \" + str(float(\"{:.4f}\".format(p3_plus_var_k)))\\\n",
    "              + \" || \" + str(float(\"{:.4f}\".format(p4_minus_var_k))) + \" || \" + str(float(\"{:.4f}\".format(p4_plus_var_k))))\n",
    "\n",
    "    x3_kal_k_upperplus1 = x_plus_list[20][2]\n",
    "    x4_kal_k_upperplus1 = x_plus_list[20][3]\n",
    "    print(str(k_upper + 1) + \" || \" + \"   \" + \" || \" + \"   \" + \" ||   \"\\\n",
    "          + str(float(\"{:.4f}\".format(x3_kal_k_upperplus1))) + \" || \" + str(float(\"{:.4f}\".format(x4_kal_k_upperplus1)))) "
   ]
  },
  {
   "cell_type": "markdown",
   "metadata": {},
   "source": [
    "## Solving the problem"
   ]
  },
  {
   "cell_type": "markdown",
   "metadata": {},
   "source": [
    "For the assignment we will use all the above functions with the following input:  \n",
    "$\\cdot$ $k_{upper}=20$, $\\Delta t = 0.1$, $q_1=q_2=1$, $\\sigma_1=\\sigma_2=1/2$, $x_0=(0, 0, 10, 10)$  \n",
    "$\\cdot$ $x_0(+)=x_0$ and $P_0(+)= \\left( \\begin{array}{cccc}\n",
    "1000 & 0.4 & 0.4 & 0.4 \\\\\n",
    "0.4 & 1000 & 0.4 & 0.4 \\\\\n",
    "0.4 & 0.4 & 1000 & 0.4 \\\\\n",
    "0.4 & 0.4 & 0.4 & 1000\n",
    "\\end{array} \\right)$  \n",
    "$\\cdot$ $A$ and $H$ as defined at the start."
   ]
  },
  {
   "cell_type": "code",
   "execution_count": 9,
   "metadata": {},
   "outputs": [],
   "source": [
    "#input\n",
    "k_upper=20\n",
    "DT = 0.1\n",
    "q1, q2 = 1, 1\n",
    "sigma1, sigma2 = 1/2, 1/2\n",
    "x_0 =(x_01, x_02, x_03, x_04) = (0, 0, 20, 20) #starting hidden values (we start at (0,0) with a speed of (...) in each direction)\n",
    "\n",
    "A=[ [1, 0, DT, 0], \n",
    "    [0, 1, 0, DT], \n",
    "     [0, 0, 1, 0],\n",
    "     [0, 0, 0, 1]]\n",
    "\n",
    "H = [[1, 0, 0, 0],\n",
    "     [0, 1, 0, 0]]\n",
    "\n",
    "P_plus_before = [[1000,0.4,0.4,0.4],\n",
    "                 [0.4,1000,0.4,0.4],\n",
    "                 [0.4,0.4,1000,0.4],\n",
    "                 [0.4,0.4,0.4,1000]]\n",
    "#input\n",
    "\n",
    "#values from functions\n",
    "mean_x, cov_x, mean_z, cov_z, x_noise, z_noise, x, z = xz_creator(k_upper, DT, q1, q2, sigma1, sigma2, x_0)\n",
    "z_true = true_measurements(k_upper, DT,x_0)\n",
    "P_minus_list, P_plus_list, x_minus_list, x_plus_list, K_list = kalman_filter(k_upper, x_0, P_plus_before, z)"
   ]
  },
  {
   "cell_type": "code",
   "execution_count": 10,
   "metadata": {},
   "outputs": [
    {
     "data": {
      "image/png": "[encoded data removed]",
      "text/plain": [
       "<Figure size 1000x1000 with 1 Axes>"
      ]
     },
     "metadata": {},
     "output_type": "display_data"
    }
   ],
   "source": [
    "#plot creation\n",
    "plot_creator(z, z_true, x_plus_list)"
   ]
  },
  {
   "cell_type": "code",
   "execution_count": 11,
   "metadata": {},
   "outputs": [
    {
     "name": "stdout",
     "output_type": "stream",
     "text": [
      "k || x_k,1-noise | x_k,2-noise | x_k,3-noise | x_k,4-noise | z_k,1-noise | z_k,2-noise |\n",
      "----------------------------------------------------------------------------------------\n",
      "1 ||   -0.0008   ||   0.0198   ||   0.0123   ||   0.2783   ||   0.2784   ||   0.2784\n",
      "2 ||   -0.0041   ||   0.0102   ||   0.0804   ||   0.3972   ||   0.3931   ||   0.3931\n",
      "3 ||   -0.0081   ||   0.005   ||   -0.0551   ||   -0.0998   ||   0.1307   ||   0.1307\n",
      "4 ||   -0.0204   ||   -0.0002   ||   -0.4824   ||   0.1173   ||   0.5105   ||   0.5105\n",
      "5 ||   0.0157   ||   -0.02   ||   0.2857   ||   -0.5402   ||   0.9372   ||   0.9372\n",
      "6 ||   0.0054   ||   0.0008   ||   0.2565   ||   -0.2174   ||   0.3902   ||   0.3902\n",
      "7 ||   0.0196   ||   0.0044   ||   0.441   ||   0.1074   ||   -0.0515   ||   -0.0515\n",
      "8 ||   -0.0054   ||   -0.0153   ||   -0.0348   ||   -0.3062   ||   0.4119   ||   0.4119\n",
      "9 ||   0.0097   ||   -0.0126   ||   0.1055   ||   -0.159   ||   -0.1452   ||   -0.1452\n",
      "10 ||   0.0107   ||   -0.0104   ||   0.3259   ||   -0.1719   ||   -0.412   ||   -0.412\n",
      "11 ||   -0.0026   ||   -0.0189   ||   -0.0517   ||   -0.2491   ||   -0.6593   ||   -0.6593\n",
      "12 ||   -0.001   ||   0.0237   ||   -0.1755   ||   0.1132   ||   0.2387   ||   0.2387\n",
      "13 ||   0.0039   ||   0.0521   ||   -0.158   ||   0.3926   ||   -0.2732   ||   -0.2732\n",
      "14 ||   -0.0196   ||   -0.0356   ||   -0.3465   ||   -0.2449   ||   0.1966   ||   0.1966\n",
      "15 ||   -0.008   ||   -0.0124   ||   -0.0897   ||   -0.2036   ||   0.1385   ||   0.1385\n",
      "16 ||   -0.004   ||   0.0034   ||   -0.003   ||   -0.092   ||   0.3196   ||   0.3196\n",
      "17 ||   0.0164   ||   0.0219   ||   0.4004   ||   0.2014   ||   0.6425   ||   0.6425\n",
      "18 ||   0.0117   ||   -0.0105   ||   0.4445   ||   -0.0932   ||   0.0719   ||   0.0719\n",
      "19 ||   -0.0163   ||   0.0091   ||   -0.1332   ||   0.1065   ||   -0.2929   ||   -0.2929\n",
      "20 ||   0.0155   ||   -0.0297   ||   -0.0055   ||   -0.274   ||   -0.0106   ||   -0.0106\n",
      "\n",
      "\n",
      "\n",
      "k || z_k,1-true | z_k,2-true | x_k,1 | x_k,2 | p_k,11(-) | p_k,11(+) | p_k,22(-) | p_k,22(+) \n",
      "---------------------------------------------------------------------------------------------\n",
      "1 ||    0.0    ||    0.0    || 0.2788 || 0.0718 || 1010.0803 || 0.2499 || 1010.0803 || 0.2499\n",
      "2 ||    2.0    ||    2.0    || 2.3891 || 1.8893 || 10.1565 || 0.244 || 10.1565 || 0.244\n",
      "3 ||    4.0    ||    4.0    || 4.1909 || 4.4567 || 1.1962 || 0.2068 || 1.1962 || 0.2068\n",
      "4 ||    6.0    ||    6.0    || 6.3895 || 6.0342 || 0.5782 || 0.1745 || 0.5782 || 0.1745\n",
      "5 ||    8.0    ||    8.0    || 8.7236 || 7.9162 || 0.3754 || 0.1501 || 0.3754 || 0.1501\n",
      "6 ||    10.0    ||    10.0    || 10.5894 || 10.2991 || 0.2776 || 0.1315 || 0.2776 || 0.1315\n",
      "7 ||    12.0    ||    12.0    || 12.2952 || 12.5252 || 0.2211 || 0.1173 || 0.2211 || 0.1173\n",
      "8 ||    14.0    ||    14.0    || 14.3197 || 14.6511 || 0.1851 || 0.1063 || 0.1851 || 0.1063\n",
      "9 ||    16.0    ||    16.0    || 16.138 || 16.7005 || 0.1607 || 0.0978 || 0.1607 || 0.0978\n",
      "10 ||    18.0    ||    18.0    || 17.9374 || 18.6171 || 0.1437 || 0.0913 || 0.1437 || 0.0913\n",
      "11 ||    20.0    ||    20.0    || 19.7349 || 20.4029 || 0.1317 || 0.0863 || 0.1317 || 0.0863\n",
      "12 ||    22.0    ||    22.0    || 21.9159 || 21.9921 || 0.1232 || 0.0825 || 0.1232 || 0.0825\n",
      "13 ||    24.0    ||    24.0    || 23.9277 || 24.1086 || 0.1173 || 0.0798 || 0.1173 || 0.0798\n",
      "14 ||    26.0    ||    26.0    || 26.1113 || 26.1101 || 0.1132 || 0.0779 || 0.1132 || 0.0779\n",
      "15 ||    28.0    ||    28.0    || 28.2548 || 28.2358 || 0.1106 || 0.0767 || 0.1106 || 0.0767\n",
      "16 ||    30.0    ||    30.0    || 30.4292 || 30.2211 || 0.1089 || 0.0758 || 0.1089 || 0.0758\n",
      "17 ||    32.0    ||    32.0    || 32.6678 || 32.1785 || 0.1079 || 0.0754 || 0.1079 || 0.0754\n",
      "18 ||    34.0    ||    34.0    || 34.694 || 34.0781 || 0.1073 || 0.0751 || 0.1073 || 0.0751\n",
      "19 ||    36.0    ||    36.0    || 36.6147 || 36.1599 || 0.107 || 0.075 || 0.107 || 0.075\n",
      "20 ||    38.0    ||    38.0    || 38.6487 || 38.0754 || 0.1069 || 0.0749 || 0.1069 || 0.0749\n",
      "21 ||              ||            || 40.6933 || 40.0555\n",
      "\n",
      "\n",
      "\n",
      "k || u_1 | u_2 | x_k,3 | x_k,4 | p_k,33(-) | p_k,33(+) | p_k,44(-) | p_k,44(+) \n",
      "-------------------------------------------------------------------------------\n",
      "1 ||   20.0   || 20.0   || 19.8282 || 19.8077 || 1000.1 || 990.1218 || 1000.1 || 990.1218\n",
      "2 ||   20.0   || 20.0   || 21.0714 || 18.2151 || 990.2218 || 47.6031 || 990.2218 || 47.6031\n",
      "3 ||   20.0   || 20.0   || 19.2474 || 22.6702 || 47.7031 || 12.4071 || 47.7031 || 12.4071\n",
      "4 ||   20.0   || 20.0   || 20.4225 || 19.7119 || 12.5071 || 5.0763 || 12.5071 || 5.0763\n",
      "5 ||   20.0   || 20.0   || 21.4033 || 19.4122 || 5.1763 || 2.6318 || 5.1763 || 2.6318\n",
      "6 ||   20.0   || 20.0   || 20.6394 || 20.6415 || 2.7318 || 1.6008 || 2.7318 || 1.6008\n",
      "7 ||   20.0   || 20.0   || 19.7788 || 21.0303 || 1.7008 || 1.102 || 1.7008 || 1.102\n",
      "8 ||   20.0   || 20.0   || 19.879 || 21.0795 || 1.202 || 0.8396 || 1.202 || 0.8396\n",
      "9 ||   20.0   || 20.0   || 19.5443 || 20.9639 || 0.9396 || 0.6947 || 0.9396 || 0.6947\n",
      "10 ||   20.0   || 20.0   || 19.2556 || 20.6293 || 0.7947 || 0.613 || 0.7947 || 0.613\n",
      "11 ||   20.0   || 20.0   || 19.026 || 20.1323 || 0.713 || 0.5668 || 0.713 || 0.5668\n",
      "12 ||   20.0   || 20.0   || 19.5149 || 19.3876 || 0.6668 || 0.5414 || 0.6668 || 0.5414\n",
      "13 ||   20.0   || 20.0   || 19.6199 || 19.6969 || 0.6414 || 0.528 || 0.6414 || 0.528\n",
      "14 ||   20.0   || 20.0   || 20.005 || 19.7521 || 0.628 || 0.5214 || 0.628 || 0.5214\n",
      "15 ||   20.0   || 20.0   || 20.254 || 20.0143 || 0.6214 || 0.5186 || 0.6214 || 0.5186\n",
      "16 ||   20.0   || 20.0   || 20.5145 || 19.986 || 0.6186 || 0.5176 || 0.6186 || 0.5176\n",
      "17 ||   20.0   || 20.0   || 20.8432 || 19.9138 || 0.6176 || 0.5174 || 0.6176 || 0.5174\n",
      "18 ||   20.0   || 20.0   || 20.7407 || 19.7521 || 0.6174 || 0.5174 || 0.6174 || 0.5174\n",
      "19 ||   20.0   || 20.0   || 20.47 || 19.9403 || 0.6174 || 0.5174 || 0.6174 || 0.5174\n",
      "20 ||   20.0   || 20.0   || 20.4469 || 19.8014 || 0.6174 || 0.5172 || 0.6174 || 0.5172\n",
      "21 ||     ||     ||   20.4469 || 19.8014\n"
     ]
    }
   ],
   "source": [
    "#table creation\n",
    "table_printer(k_upper, x_noise, z_noise, z_true, x_plus_list, P_minus_list, P_plus_list)"
   ]
  }
 ],
 "metadata": {
  "colab": {
   "provenance": []
  },
  "kernelspec": {
   "display_name": "Python 3 (ipykernel)",
   "language": "python",
   "name": "python3"
  },
  "language_info": {
   "codemirror_mode": {
    "name": "ipython",
    "version": 3
   },
   "file_extension": ".py",
   "mimetype": "text/x-python",
   "name": "python",
   "nbconvert_exporter": "python",
   "pygments_lexer": "ipython3",
   "version": "3.11.1"
  },
  "toc": {
   "base_numbering": 1,
   "nav_menu": {},
   "number_sections": true,
   "sideBar": true,
   "skip_h1_title": true,
   "title_cell": "Table of Contents",
   "title_sidebar": "Contents",
   "toc_cell": false,
   "toc_position": {},
   "toc_section_display": true,
   "toc_window_display": false
  }
 },
 "nbformat": 4,
 "nbformat_minor": 1
}
