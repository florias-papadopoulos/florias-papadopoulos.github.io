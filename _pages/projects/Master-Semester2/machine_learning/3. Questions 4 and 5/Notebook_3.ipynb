{
 "cells": [
  {
   "cell_type": "markdown",
   "id": "8c512c50",
   "metadata": {},
   "source": [
    "<span style=\"font-size:1.5em;\">**Εργασία Μηχανικής Μάθησης - ΜΗΧΜΗΔΟΝΕΣ (Notebook 3)** </span>\n",
    "\n",
    "Το παρόν notebook δημιουργήθηκε για την επίλυση εργασίας \"Αλγόριθμοι αναγνώρισης δραστηριότητας από σήμα επιταχυνσιομέτρου\" που ανατέθηκε στο μάθημα \"Ειδικά Θέματα Ι (Μηχανική Μάθηση)\" του μεταπτυχιακού προγράμματος μας. Συνοπτικά αυτή καθαυτή περιγράφεται στο συνοδευόμενο Notebook_1.\n",
    "\n",
    "Το notebook αυτό αποτελεί το τρίτο από μια σειρά notebooks που περιέχουν κώδικα ο οποίος χρησιμοποιήθηκε για την επίλυση της εργασίας και περιέχει κώδικα ο οποίος απαντάει στις παρακάτω ερωτήσεις:\n",
    "\n",
    "4. Για την καλύτερη περίπτωση, υπολογίστε έναν νέο πίνακα σύγχυσης όπου οι δραστηριότητες του ερωτήματος 3 (βλ. Notebook_2) ομαδοποιούνται σε μία δραστηριότητα έτσι ώστε να θεωρείται ότι η δραστηριότητα εντοπίζεται όταν εντοπίζεται τουλάχιστον μία από τις δραστηριότητες της ομάδας (για να γίνει αυτό πρέπει να εκπαιδεύσετε ξανά το μοντέλο χρησιμοποιώντας τις νέες κλάσεις). Ποια είναι η ορθότητα της ταξινόμησης με βάση αυτόν τον πίνακα; Σχολιάστε το αποτέλεσμα.\n",
    "5. Με βάση τα παραπάνω, επιλέξτε τον καλύτερο ταξινομητή και εκπαιδεύστε τον και με τα 10 subjects. Στη συνέχεια, ελέγξτε την επίδοσή του χρησιμοποιώντας ως test set (i) τα δεδομένα από το “left pocket” και (ii) right wrist. Σχολιάστε τα αποτελέσματα.\n",
    "\n",
    "**Συγγραφείς**: Α.Α., Μουστάκας Γεώργιος, Παπαδόπουλος Φλωριάς, Φ.Ε."
   ]
  },
  {
   "cell_type": "markdown",
   "id": "7e533017",
   "metadata": {
    "toc": true
   },
   "source": [
    "<h1>Table of Contents<span class=\"tocSkip\"></span></h1>\n",
    "<div class=\"toc\"><ul class=\"toc-item\"><li><span><a href=\"#Ερώτηση-4\" data-toc-modified-id=\"Ερώτηση-4-1\"><span class=\"toc-item-num\">1&nbsp;&nbsp;</span>Ερώτηση 4</a></span><ul class=\"toc-item\"><li><span><a href=\"#Προετοιμασία-νέων-κλάσεων\" data-toc-modified-id=\"Προετοιμασία-νέων-κλάσεων-1.1\"><span class=\"toc-item-num\">1.1&nbsp;&nbsp;</span>Προετοιμασία νέων κλάσεων</a></span></li><li><span><a href=\"#Εκπαίδευση-SVM-για-νέες-δραστηριότητες\" data-toc-modified-id=\"Εκπαίδευση-SVM-για-νέες-δραστηριότητες-1.2\"><span class=\"toc-item-num\">1.2&nbsp;&nbsp;</span>Εκπαίδευση SVM για νέες δραστηριότητες</a></span></li><li><span><a href=\"#Σχόλια\" data-toc-modified-id=\"Σχόλια-1.3\"><span class=\"toc-item-num\">1.3&nbsp;&nbsp;</span>Σχόλια</a></span></li></ul></li><li><span><a href=\"#Ερώτηση-5\" data-toc-modified-id=\"Ερώτηση-5-2\"><span class=\"toc-item-num\">2&nbsp;&nbsp;</span>Ερώτηση 5</a></span><ul class=\"toc-item\"><li><span><a href=\"#Προετοιμασία-νέων-δεδομένων\" data-toc-modified-id=\"Προετοιμασία-νέων-δεδομένων-2.1\"><span class=\"toc-item-num\">2.1&nbsp;&nbsp;</span>Προετοιμασία νέων δεδομένων</a></span></li><li><span><a href=\"#Η-περίπτωση-του-left-pocket\" data-toc-modified-id=\"Η-περίπτωση-του-left-pocket-2.2\"><span class=\"toc-item-num\">2.2&nbsp;&nbsp;</span>Η περίπτωση του left pocket</a></span></li><li><span><a href=\"#Η-περίπτωση-του-right-wrist\" data-toc-modified-id=\"Η-περίπτωση-του-right-wrist-2.3\"><span class=\"toc-item-num\">2.3&nbsp;&nbsp;</span>Η περίπτωση του right wrist</a></span></li><li><span><a href=\"#Σχόλια\" data-toc-modified-id=\"Σχόλια-2.4\"><span class=\"toc-item-num\">2.4&nbsp;&nbsp;</span>Σχόλια</a></span></li></ul></li></ul></div>"
   ]
  },
  {
   "cell_type": "markdown",
   "id": "8eba2bbd",
   "metadata": {},
   "source": [
    "## Ερώτηση 4"
   ]
  },
  {
   "cell_type": "markdown",
   "id": "d116f90f",
   "metadata": {},
   "source": [
    "### Προετοιμασία νέων κλάσεων"
   ]
  },
  {
   "cell_type": "markdown",
   "id": "d15f7d17",
   "metadata": {},
   "source": [
    "Από τα αποτελέσματα των εκπαιδεύσεων που κάναμε στο Notebook_2 καταλήξαμε στο ότι ο πιο αποτελεσματικός ταξινομητής είναι η μέθοδος SVM με C=10000000 και γ=1e-06. Ακόμη, εκτός από αποτελεσματικός όσον αφορά τα επίπεδα ορθότητας που πέτυχε, χρειαστήκε και πολύ μικρότερη υπολογιστική ισχύ για πετύχει τους στόχους του και πιο συνοπτικό και εύκολα κατανοητό κώδικα, κάτι που τον κάνει ακόμα καλύτερο υποψήφιο (π.χ. σε σύγκριση με την μέθοδο με MLP που πέτυχε παρόμοια ορθότητα με τεράστιες υπολογιστικές απαιτήσεις και πιο περίπλοκο σχεδιασμό)."
   ]
  },
  {
   "cell_type": "markdown",
   "id": "098b9b02",
   "metadata": {},
   "source": [
    "Από τις δραστηριότητες που συγχέει ο καλύτερος ταξινομητής το μεγάλυτερο πρόβλημα βρέθηκε ανάμεσα στις δραστηριότητες \"standing\" και \"sitting\" και γι' αυτό αυτές οι δύο θα είναι αυτές που θα \"ενώσουμε\". Έτσι, το πρώτο βήμα για να οδηγηθούμε στην απάντηση της ερώτησης 4 είναι η επεξεργασία του αρχείου \"pars_standardized.csv\" ώστε στα labels κάθε \"standing\" και κάθε \"sitting\" να μετατραπούν σε \"stand or sit\" στην στήλη 'Activity'."
   ]
  },
  {
   "cell_type": "code",
   "execution_count": 1,
   "id": "0eec5346",
   "metadata": {},
   "outputs": [],
   "source": [
    "# Main modules (and modules for SVM)\n",
    "import pandas as pd\n",
    "import numpy as np\n",
    "from sklearn.model_selection import LeaveOneGroupOut\n",
    "from sklearn.metrics import confusion_matrix, accuracy_score\n",
    "from sklearn.svm import SVC\n",
    "\n",
    "# Data input\n",
    "pars = pd.read_csv(\"pars_standardized.csv\")\n",
    "\n",
    "# Replace sitting and standing with \"standing or sitting\" \n",
    "pars['Activity'] = pars['Activity'].replace(['sitting', 'standing'], 'stand or sit')\n",
    "pars_fix = pars # Αλλαγή ονόματος για καλύτερη διάκριση ανάμεσα στα dataframes των notebooks\n",
    "\n",
    "pars_fix.to_csv('pars_standardized_fix.csv', index=False)"
   ]
  },
  {
   "cell_type": "markdown",
   "id": "2f39e6d5",
   "metadata": {},
   "source": [
    "### Εκπαίδευση SVM για νέες δραστηριότητες"
   ]
  },
  {
   "cell_type": "markdown",
   "id": "b26312ed",
   "metadata": {},
   "source": [
    "Η μέθοδος έχει χρησιμοποιηθεί και σε προηγούμενο Notebook (βλ. Notebook_2), οπότε παράπεμπουμε τον αναγνώστη εκεί για τυχόν θεωρητικές απορίες. </br>\n",
    "Η εκπαίδευση γίνεται ως εξής:"
   ]
  },
  {
   "cell_type": "code",
   "execution_count": 2,
   "id": "ff1be14a",
   "metadata": {},
   "outputs": [
    {
     "name": "stdout",
     "output_type": "stream",
     "text": [
      "\n",
      "Overall accuracy: 0.9428571428571428\n",
      "\n",
      "Confusion matrix:\n",
      "\n",
      "              biking  downstairs  jogging  stand or sit  upstairs  walking\n",
      "biking            88           1        0             0         1        0\n",
      "downstairs         0          78        0             0         5        7\n",
      "jogging            0           0       90             0         0        0\n",
      "stand or sit       0           0        0           180         0        0\n",
      "upstairs           1          11        0             0        78        0\n",
      "walking            0          10        0             0         0       80\n"
     ]
    }
   ],
   "source": [
    "# Extract features and labels from data frame\n",
    "X = pars.iloc[:, 2:14].values\n",
    "y = pars.iloc[:, 1].values\n",
    "groups = pars.iloc[:, 0].values\n",
    "\n",
    "# Initialize classifier with optimal hyperparameters as mentioned above\n",
    "svm = SVC(kernel='rbf', C=10000000, gamma=1e-06)\n",
    "\n",
    "# Initialize confusion matrix for each split\n",
    "cm = np.zeros((len(np.unique(y)), len(np.unique(y))))\n",
    "\n",
    "# Perform leave-one-subject-out cross validation\n",
    "logo = LeaveOneGroupOut()\n",
    "for train_index, test_index in logo.split(X, y, groups):\n",
    "    # Split data into training and testing sets\n",
    "    X_train, X_test = X[train_index], X[test_index]\n",
    "    y_train, y_test = y[train_index], y[test_index]\n",
    "\n",
    "    # Fit SVM classifier and predict labels\n",
    "    svm.fit(X_train, y_train)\n",
    "    y_pred = svm.predict(X_test)\n",
    "\n",
    "    # Calculate confusion matrix and accuracy for this split\n",
    "    labels = np.unique(pars['Activity'])\n",
    "    cm += confusion_matrix(y_test, y_pred, labels=labels)\n",
    "\n",
    "# Create DataFrame from confusion matrix and labels\n",
    "cm_df = pd.DataFrame(cm.astype(int), columns=labels, index=labels)\n",
    "\n",
    "# Calculate overall accuracy and print confusion matrix\n",
    "overall_acc = np.trace(cm) / np.sum(cm)\n",
    "print(f\"\\nOverall accuracy: {overall_acc}\")\n",
    "print(\"\\nConfusion matrix:\\n\")\n",
    "print(cm_df)"
   ]
  },
  {
   "cell_type": "markdown",
   "id": "3335c859",
   "metadata": {},
   "source": [
    "### Σχόλια"
   ]
  },
  {
   "cell_type": "markdown",
   "id": "38600eec",
   "metadata": {},
   "source": [
    "Είναι προφανές πως η ομαδοποίηση των κλάσεων \"standing\" και \"sitting\" μπόρεσε να επιλύσει το μεγαλύτερο πρόβλημα που έιχαμε με τις προηγούμενες εκπαιδεύσεις, ταξινομόντας σωστά όλα τα standing & sitting στην κοινή τους κλάση. Αυτό είναι που ώθησε και την ορθότητα να φτάσει το 94%. </br>\n",
    "\n",
    "Θεωρητικά με επιπλέον συγχωνεύσεις δραστηριοτήτων τέτοιου τύπου θα μπορούσαμε να επιτύχουμε ορθότητα πολύ κοντά στο 100% αλλά αυτό θα είχε ένα προφανές κόστος στο επίπεδο της ταξινόμησης - ποιό το νόημα αν όλα βρίσκονται σε τέτοιες ομάδες που κάνουν αδύνατο να ξεχωρίσουμε τις επιμέρους δραστηριότητες;;"
   ]
  },
  {
   "cell_type": "markdown",
   "id": "ae72e3f6",
   "metadata": {},
   "source": [
    "---"
   ]
  },
  {
   "cell_type": "markdown",
   "id": "bb4cea6f",
   "metadata": {},
   "source": [
    "## Ερώτηση 5"
   ]
  },
  {
   "cell_type": "markdown",
   "id": "f1e5eb12",
   "metadata": {},
   "source": [
    "### Προετοιμασία νέων δεδομένων"
   ]
  },
  {
   "cell_type": "markdown",
   "id": "f12e5aba",
   "metadata": {},
   "source": [
    "Το πρώτο βήμα για να οδηγηθούμε στην απάντηση της ερώτησης 5 είναι η προεπεξεργασία και εξαγωγή χαρακτηριστικών, καθώς και κανονικοποίηση των δεδομέων του επιταχυνσιόμετρου των αισθητήρων των θέσεων \"left pocket\" και \"right wrist\" αντίστοιχα. Αυτό γίνεται με ακριβώς τον ίδιο τρόπο που ακολουθήσαμε για τα δεδομένα του \"right pocket\" στο Notebook_1. Για προφανείς λόγους, δεν θα ξαναγράψουμε όλη την διαδικασία απ' την αρχή αλλά παραπέμπουμε τον αναγνώστη στο Notebook_1, όπου ο κώδικας θα υποστεί μόνο αλλαγή στην αρχική επιλογή των στηλών \"Ax\", \"Ay\" και \"Az\" απ' τις αντίστοιχες στήλες στο αρχείο csv. Ενδεικτικά αυτές είναι:"
   ]
  },
  {
   "cell_type": "raw",
   "id": "e3dcf11f",
   "metadata": {},
   "source": [
    "# Για το left pocket\n",
    "par.drop(par.columns[0], axis=1,inplace=True)\n",
    "par.drop(par.columns[3:68], axis=1,inplace=True)\n",
    "\n",
    "# Για το right wrist\n",
    "par.drop(par.columns[0:29], axis=1,inplace=True) \n",
    "par.drop(par.columns[3:40], axis=1,inplace=True)"
   ]
  },
  {
   "cell_type": "markdown",
   "id": "2524f2d8",
   "metadata": {},
   "source": [
    "Έτσι, μετά και από τον κατάλληλο έλεγχο για σφάλματα, δημιουργούμε τα αρχεία csv {par1_lp.csv, ..., par10_lp.csv} και {par1_rw.csv, ..., par10_rw.csv} για τα \"left pocket\" και \"right wrist\", αντίστοιχα. Τα παραπάνω αρχεία περιέχονται μέσα στον φάκελο που βρίσκεται και αυτό το Notebook.\n",
    "\n",
    "**Προσοχή, σε αυτά τα αρχεία όλοι οι Participants αναγράφονται ως Participant 1, κάτι που δεν επηρεάζει όμως τις μετρήσεις καθώς δεν χρησιμοποιείται LOSO.**"
   ]
  },
  {
   "cell_type": "markdown",
   "id": "d3ce0296",
   "metadata": {},
   "source": [
    "Σε δεύτερη φάση προχωράμε με την εννοποίηση και έπειτα την κανονικοποίηση των αρχείων csv, ακριβώς όπως το κάναμε και για το \"right pocket\" στο Notebook_1, δημιουργώντας έτσι τα αρχεία \"pars_standarized_lp.csv\",\"pars_standardized_fix_lp.csv\" και \"pars_standarized_rw.csv\", \"pars_standardized_fix_rw.csv\" , αντίστοιχα για κάθε θέση. Οπότε, τελικά έχουμε τα αρχεία που χρειαζόμαστε και τα εισάγουμε με τις παρακάτω εντολές:"
   ]
  },
  {
   "cell_type": "code",
   "execution_count": 3,
   "id": "66937647",
   "metadata": {},
   "outputs": [],
   "source": [
    "# modules\n",
    "import pandas as pd\n",
    "import numpy as np\n",
    "\n",
    "# data input\n",
    "pars_lp = pd.read_csv(\"pars_standardized_fix_lp.csv\")\n",
    "pars_rw = pd.read_csv(\"pars_standardized_fix_rw.csv\")"
   ]
  },
  {
   "cell_type": "markdown",
   "id": "407bafb6",
   "metadata": {},
   "source": [
    "### Η περίπτωση του left pocket"
   ]
  },
  {
   "cell_type": "markdown",
   "id": "6fae54ce",
   "metadata": {},
   "source": [
    "Θα χρησιμοποιήσουμε την μέθοδο SVM με τα βέλτιστα C=10000000 και γ=1e-06 στα αρχεία csv που περιέχουν την τροποποιημένη δραστηριότητα \"stand or sit\", κάνοντας εκπαίδευση με τα επεξεργασμένα από το \"right pocket\" και testing με τα επεξεργασμένα δεδομένα από το \"left pocket\". </br>\n",
    "Ακόμη, καθώς η μέθοδος έχει χρησιμοποιηθεί και σε προηγούμενο Notebook (βλ. Notebook_2), το μόνο που θα τονίσουμε είναι ότι η μεγάλη διαφορά αυτής της εκπαίδευσης με εκεινή του Notebook_2 είναι ότι τώρα δεν θα χρησιμοποιηθεί η LOSO. Έτσι, έχουμε:"
   ]
  },
  {
   "cell_type": "code",
   "execution_count": 4,
   "id": "f9eff8ec",
   "metadata": {
    "scrolled": true
   },
   "outputs": [
    {
     "name": "stdout",
     "output_type": "stream",
     "text": [
      "\n",
      "Overall accuracy: 0.9777777777777777\n",
      "\n",
      "Confusion matrix:\n",
      "\n",
      "              biking  downstairs  jogging  stand or sit  upstairs  walking\n",
      "biking            90           0        0             0         0        0\n",
      "downstairs         0          81        0             0         6        3\n",
      "jogging            0           0       90             0         0        0\n",
      "stand or sit       0           0        0           180         0        0\n",
      "upstairs           0           4        0             0        86        0\n",
      "walking            0           1        0             0         0       89\n"
     ]
    }
   ],
   "source": [
    "# Rename training and testing dataframes\n",
    "train_df = pars   # train with right pocket\n",
    "test_df = pars_lp # test with left pocket\n",
    "\n",
    "# Extract features and labels from data frames\n",
    "X_train = train_df.iloc[:, 2:14].values\n",
    "y_train = train_df.iloc[:, 1].values\n",
    "X_test = test_df.iloc[:, 2:14].values\n",
    "y_test = test_df.iloc[:, 1].values\n",
    "\n",
    "# Initialize classifier with optimal hyperparameters\n",
    "svm = SVC(kernel='rbf', C=10000000, gamma=1e-06)\n",
    "\n",
    "# Fit SVM classifier and predict labels\n",
    "svm.fit(X_train, y_train)\n",
    "y_pred = svm.predict(X_test)\n",
    "\n",
    "# Calculate confusion matrix and accuracy\n",
    "labels = np.unique(np.concatenate([y_train, y_test]))  # Get all unique labels from both training and testing data\n",
    "cm = confusion_matrix(y_test, y_pred, labels=labels)\n",
    "\n",
    "# Create DataFrame from confusion matrix and labels\n",
    "cm_df = pd.DataFrame(cm, columns=labels, index=labels)\n",
    "\n",
    "# Calculate overall accuracy and print confusion matrix\n",
    "overall_acc = np.trace(cm) / np.sum(cm)\n",
    "print(f\"\\nOverall accuracy: {overall_acc}\")\n",
    "print(\"\\nConfusion matrix:\\n\")\n",
    "print(cm_df)"
   ]
  },
  {
   "cell_type": "markdown",
   "id": "230da121",
   "metadata": {},
   "source": [
    "### Η περίπτωση του right wrist"
   ]
  },
  {
   "cell_type": "markdown",
   "id": "b51465de",
   "metadata": {},
   "source": [
    "Θα χρησιμοποιήσουμε την μέθοδο SVM με τα βέλτιστα C=10000000 και γ=1e-06 στα αρχεία csv που περιέχουν την τροποποιημένη δραστηριότητα \"stand or sit\", κάνοντας εκπαίδευση με τα επεξεργασμένα από το \"right pocket\" και testing με τα επεξεργασμένα δεδομένα από το \"right wrist\". </br>\n",
    "Έτσι, όμοια με παραπάνω, έχουμε:"
   ]
  },
  {
   "cell_type": "code",
   "execution_count": 5,
   "id": "5cb70f86",
   "metadata": {},
   "outputs": [
    {
     "name": "stdout",
     "output_type": "stream",
     "text": [
      "\n",
      "Overall accuracy: 0.6523809523809524\n",
      "\n",
      "Confusion matrix:\n",
      "\n",
      "              biking  downstairs  jogging  stand or sit  upstairs  walking\n",
      "biking            45          25        3            16         0        1\n",
      "downstairs        12          68        0             0        10        0\n",
      "jogging            0          10       78             0         0        2\n",
      "stand or sit       9           5        0           166         0        0\n",
      "upstairs          24          21        0             0        36        9\n",
      "walking           10           1        0             0        61       18\n"
     ]
    }
   ],
   "source": [
    "# Rename training and testing dataframes\n",
    "train_df = pars   # train with right pocket\n",
    "test_df = pars_rw # test with right wrist\n",
    "\n",
    "# Extract features and labels from data frames\n",
    "X_train = train_df.iloc[:, 2:14].values\n",
    "y_train = train_df.iloc[:, 1].values\n",
    "X_test = test_df.iloc[:, 2:14].values\n",
    "y_test = test_df.iloc[:, 1].values\n",
    "\n",
    "# Initialize classifier with optimal hyperparameters\n",
    "svm = SVC(kernel='rbf', C=10000000, gamma=1e-06)\n",
    "\n",
    "# Fit SVM classifier and predict labels\n",
    "svm.fit(X_train, y_train)\n",
    "y_pred = svm.predict(X_test)\n",
    "\n",
    "# Calculate confusion matrix and accuracy\n",
    "labels = np.unique(np.concatenate([y_train, y_test]))  # Get all unique labels from both training and testing data\n",
    "cm = confusion_matrix(y_test, y_pred, labels=labels)\n",
    "\n",
    "# Create DataFrame from confusion matrix and labels\n",
    "cm_df = pd.DataFrame(cm, columns=labels, index=labels)\n",
    "\n",
    "# Calculate overall accuracy and print confusion matrix\n",
    "overall_acc = np.trace(cm) / np.sum(cm)\n",
    "print(f\"\\nOverall accuracy: {overall_acc}\")\n",
    "print(\"\\nConfusion matrix:\\n\")\n",
    "print(cm_df)"
   ]
  },
  {
   "cell_type": "markdown",
   "id": "0e57ecbc",
   "metadata": {},
   "source": [
    "### Σχόλια"
   ]
  },
  {
   "cell_type": "markdown",
   "id": "a6c569ec",
   "metadata": {},
   "source": [
    "**Left Pocket**: Η κατηγοριοποίηση ήταν σχεδόν άψογη βάση του πίνακα σύγχησης και της ολικής ορθότητας. Αυτό ήταν κάτι που περιμέναμε σε γενικές γραμμές καθώς η μετρήσεις από την θέση \"left pocket\" περιμένουμε να παρουσιάζουν αρκετές ομοιότητες με αυτές της θέσης \"right pocket\".\n",
    "\n",
    "**Right Wrist**: Το μοντέλο μας δεν ήταν ιδιαίτερα αποτελεσματικό στο να κατηγοριοποιήσει τα δεδομένα που συλέγχθηκαν απο το \"right wrist\". Ωστόσο, το αποτέλεσμα είναι λογικό δεδομένου των διαφορετικών κινήσεων που κάνει το επιταχυνσιόμετρο στον καρπό σε σύγκριση με την δεξιά τσέπη."
   ]
  }
 ],
 "metadata": {
  "kernelspec": {
   "display_name": "Python 3 (ipykernel)",
   "language": "python",
   "name": "python3"
  },
  "language_info": {
   "codemirror_mode": {
    "name": "ipython",
    "version": 3
   },
   "file_extension": ".py",
   "mimetype": "text/x-python",
   "name": "python",
   "nbconvert_exporter": "python",
   "pygments_lexer": "ipython3",
   "version": "3.11.1"
  },
  "toc": {
   "base_numbering": 1,
   "nav_menu": {},
   "number_sections": true,
   "sideBar": true,
   "skip_h1_title": true,
   "title_cell": "Table of Contents",
   "title_sidebar": "Contents",
   "toc_cell": true,
   "toc_position": {},
   "toc_section_display": true,
   "toc_window_display": false
  }
 },
 "nbformat": 4,
 "nbformat_minor": 5
}
